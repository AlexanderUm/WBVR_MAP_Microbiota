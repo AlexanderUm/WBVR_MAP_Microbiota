{
 "cells": [
  {
   "cell_type": "code",
   "execution_count": null,
   "metadata": {},
   "outputs": [],
   "source": [
    "##########################################\n",
    "# Filtering and normalization of ASV count \n",
    "##########################################\n"
   ]
  },
  {
   "cell_type": "code",
   "execution_count": 66,
   "metadata": {},
   "outputs": [
    {
     "data": {
      "text/html": [
       "<ol>\n",
       "\t<li>TRUE</li>\n",
       "\t<li>TRUE</li>\n",
       "\t<li>TRUE</li>\n",
       "\t<li>TRUE</li>\n",
       "\t<li>TRUE</li>\n",
       "</ol>\n"
      ],
      "text/latex": [
       "\\begin{enumerate}\n",
       "\\item TRUE\n",
       "\\item TRUE\n",
       "\\item TRUE\n",
       "\\item TRUE\n",
       "\\item TRUE\n",
       "\\end{enumerate}\n"
      ],
      "text/markdown": [
       "1. TRUE\n",
       "2. TRUE\n",
       "3. TRUE\n",
       "4. TRUE\n",
       "5. TRUE\n",
       "\n",
       "\n"
      ],
      "text/plain": [
       "[[1]]\n",
       "[1] TRUE\n",
       "\n",
       "[[2]]\n",
       "[1] TRUE\n",
       "\n",
       "[[3]]\n",
       "[1] TRUE\n",
       "\n",
       "[[4]]\n",
       "[1] TRUE\n",
       "\n",
       "[[5]]\n",
       "[1] TRUE\n"
      ]
     },
     "metadata": {},
     "output_type": "display_data"
    }
   ],
   "source": [
    "# load libraries\n",
    "set.seed(32426)\n",
    "\n",
    "source(\"scr/functions/general/load_abs_install_pkg.R\")\n",
    "\n",
    "load_abs_install_pkg(c(\"phyloseq\", \"metagenomeSeq\", \"tidyverse\", \"RColorBrewer\", \"gmodels\"))\n"
   ]
  },
  {
   "cell_type": "code",
   "execution_count": 12,
   "metadata": {},
   "outputs": [],
   "source": [
    "# Read in phyloseq from DADA2\n",
    "ps.0 <- readRDS(\"output/2_dada2/phyloseq0.rds\")\n"
   ]
  },
  {
   "cell_type": "code",
   "execution_count": 13,
   "metadata": {},
   "outputs": [],
   "source": [
    "# Remove taxa that have count or/end prevalence less than 3 \n",
    "###########################################################\n",
    "\n",
    "# Have count less than 3 \n",
    "ps.0f <- prune_taxa(taxa = colSums(ps.0@otu_table) > 3 , x= ps.0) \n",
    "\n",
    "# Have privalence less that 3 \n",
    "otu_prev <- otu_table(ps.0f)\n",
    "\n",
    "otu_prev[otu_prev > 1] <- 1\n",
    "\n",
    "ps_tf1 <- prune_taxa(taxa = colSums(otu_prev) > 3 , x= ps.0f)"
   ]
  },
  {
   "cell_type": "code",
   "execution_count": 14,
   "metadata": {},
   "outputs": [],
   "source": [
    "# Remove sample that have less than a 1000 observations \n",
    "######################################################\n",
    "\n",
    "o.tab.ps_tf1 <- otu_table(ps_tf1)\n",
    "\n",
    "ps_tf2 <- prune_samples(samples = rownames(o.tab.ps_tf1)[rowSums(o.tab.ps_tf1) > 1000], ps_tf1)\n"
   ]
  },
  {
   "cell_type": "code",
   "execution_count": 15,
   "metadata": {},
   "outputs": [
    {
     "name": "stderr",
     "output_type": "stream",
     "text": [
      "Default value being used.\n"
     ]
    }
   ],
   "source": [
    "# Normalize ASVs abundance using CSS as implemented in metagenomSeq \n",
    "###################################################################\n",
    "\n",
    "# Prepare data from phyloseq package \n",
    "mg.ps_tf2 <- phyloseq_to_metagenomeSeq(ps_tf2)\n",
    "\n",
    "# Calculate cumulative statistics \n",
    "p <- metagenomeSeq::cumNormStatFast(mg.ps_tf2)\n",
    "\n",
    "# Normalize count \n",
    "mg.c.ps_tf2 <- metagenomeSeq::cumNorm(mg.ps_tf2, p = p)\n",
    "\n",
    "# Convert metagenomSeq object with normolized count a into dataframe  \n",
    "css.otu.all <- data.frame(otu_table(metagenomeSeq::MRcounts(mg.c.ps_tf2, \n",
    "                        norm = TRUE, log = TRUE), taxa_are_rows = FALSE))\n",
    "\n"
   ]
  },
  {
   "cell_type": "code",
   "execution_count": 16,
   "metadata": {},
   "outputs": [],
   "source": [
    "# Adjust names and table format of the otu table \n",
    "css.otu.all.m <- as.matrix(t(css.otu.all))\n",
    "\n",
    "rname <- gsub(\"[.]\", \"-\", rownames(css.otu.all.m))\n",
    "\n",
    "rownames(css.otu.all.m) <- gsub(\"X\", \"\", rname)\n",
    "\n"
   ]
  },
  {
   "cell_type": "code",
   "execution_count": 17,
   "metadata": {},
   "outputs": [
    {
     "name": "stderr",
     "output_type": "stream",
     "text": [
      "Warning message in dir.create(\"output/3_filtering_mormalization\"):\n",
      "“'output/3_filtering_mormalization' already exists”"
     ]
    }
   ],
   "source": [
    "# Make a phyloseq object with normolized taxa count and save it \n",
    "###############################################################\n",
    "ps_tf2_css <- ps_tf2\n",
    "\n",
    "ps_tf2_css@otu_table@.Data <- css.otu.all.m \n",
    "\n",
    "dir.create(\"output/3_filtering_mormalization\")\n",
    "saveRDS(ps_tf2_css, \"output/3_filtering_mormalization/ps_tf2_css.RDS\")"
   ]
  },
  {
   "cell_type": "code",
   "execution_count": 18,
   "metadata": {},
   "outputs": [
    {
     "data": {
      "text/html": [
       "11.5"
      ],
      "text/latex": [
       "11.5"
      ],
      "text/markdown": [
       "11.5"
      ],
      "text/plain": [
       "[1] 11.5"
      ]
     },
     "metadata": {},
     "output_type": "display_data"
    }
   ],
   "source": [
    "##################################################\n",
    "# Extract general information about sequencing\n",
    "##################################################\n",
    "\n",
    "# Number of samples per animal \n",
    "median(table(ps_tf2_css@sam_data$CowN))\n",
    "\n",
    "write_csv(x = as.data.frame(table(ps_tf2_css@sam_data$CowN)),\n",
    "          path = \"output/3_filtering_mormalization/samples_number.csv\")\n"
   ]
  },
  {
   "cell_type": "code",
   "execution_count": 19,
   "metadata": {},
   "outputs": [
    {
     "data": {
      "text/html": [
       "3905852"
      ],
      "text/latex": [
       "3905852"
      ],
      "text/markdown": [
       "3905852"
      ],
      "text/plain": [
       "[1] 3905852"
      ]
     },
     "metadata": {},
     "output_type": "display_data"
    },
    {
     "data": {
      "text/html": [
       "13920"
      ],
      "text/latex": [
       "13920"
      ],
      "text/markdown": [
       "13920"
      ],
      "text/plain": [
       "[1] 13920"
      ]
     },
     "metadata": {},
     "output_type": "display_data"
    },
    {
     "data": {
      "text/html": [
       "1415"
      ],
      "text/latex": [
       "1415"
      ],
      "text/markdown": [
       "1415"
      ],
      "text/plain": [
       "[1] 1415"
      ]
     },
     "metadata": {},
     "output_type": "display_data"
    },
    {
     "data": {
      "text/html": [
       "44417"
      ],
      "text/latex": [
       "44417"
      ],
      "text/markdown": [
       "44417"
      ],
      "text/plain": [
       "[1] 44417"
      ]
     },
     "metadata": {},
     "output_type": "display_data"
    }
   ],
   "source": [
    "# Reads information \n",
    "###################\n",
    "# Number of reads per sample\n",
    "otus.tab <- otu_table(ps_tf2)\n",
    "\n",
    "# Total reads \n",
    "sum(otus.tab)\n",
    "\n",
    "# Median, min, max reads \n",
    "median(rowSums(otus.tab))\n",
    "\n",
    "min(rowSums(otus.tab))\n",
    "\n",
    "max(rowSums(otus.tab))"
   ]
  },
  {
   "cell_type": "code",
   "execution_count": 20,
   "metadata": {},
   "outputs": [],
   "source": [
    "# Plot reads distribution \n",
    "#########################\n",
    "# Prepare data \n",
    "reads.pl.df<- as.data.frame(rowSums(otus.tab))\n",
    "\n",
    "colnames(reads.pl.df) <- \"Reads\"\n",
    "\n",
    "reads.pl.df$SampleID <- rownames(reads.pl.df)\n",
    "\n",
    "reads.pl.df <- reads.pl.df[order(reads.pl.df$Reads), ]\n",
    "\n",
    "reads.pl.df$SampleID <- factor(reads.pl.df$SampleID, levels=unique(reads.pl.df$SampleID))\n"
   ]
  },
  {
   "cell_type": "code",
   "execution_count": 21,
   "metadata": {},
   "outputs": [],
   "source": [
    "# Plot \n",
    "reads.pers.p <- ggplot(reads.pl.df, aes(x = SampleID, y = Reads)) + \n",
    "  geom_bar(stat=\"identity\") + \n",
    "  theme_bw() + \n",
    "  geom_hline(yintercept = mean(reads.pl.df$Reads), color=\"blue\") +\n",
    "  theme(axis.text.x = element_blank()) + \n",
    "  ylab(\"Reads number\") + \n",
    "  xlab(\"Samples\") + \n",
    "  theme(panel.grid.major = element_blank(), panel.grid.minor = element_blank())\n"
   ]
  },
  {
   "cell_type": "code",
   "execution_count": 22,
   "metadata": {},
   "outputs": [],
   "source": [
    "# Save plot\n",
    "ggsave(filename = \"output/3_filtering_mormalization/reads_pesr_sample.pdf\", \n",
    "       plot = reads.pers.p, width = 10, height = 6)\n",
    "\n",
    "ggsave(filename = \"output/3_filtering_mormalization/reads_pesr_sample.jpg\", \n",
    "       plot = reads.pers.p, width = 10, height = 6, dpi = 400)\n"
   ]
  },
  {
   "cell_type": "code",
   "execution_count": 35,
   "metadata": {},
   "outputs": [],
   "source": [
    "# Phylogenetic composition on phylum level \n",
    "##########################################\n",
    "# Prepare data for plotting \n",
    "# Glom phyloseq to Phylum level \n",
    "ps.tf2.plot <- tax_glom(ps_tf2, taxrank = \"Phylum\")\n",
    "\n",
    "# Transform count to relative abundance \n",
    "ps.tf2.plot <- transform_sample_counts(ps.tf2.plot, function(x) x / sum(x) * 100)\n",
    "\n",
    "# Extract otu table \n",
    "phy.plot.d <- data.frame(t(otu_table(ps.tf2.plot)))\n",
    "\n",
    "# Calculate row sums \n",
    "phy.plot.rs <- rowSums(phy.plot.d)\n",
    "\n",
    "# Add column with Phylum names \n",
    "phy.plot.d$Phylum <- as.character(tax_table(ps.tf2.plot)[,\"Phylum\"])\n",
    "                                       \n",
    "# Melt df to long format \n",
    "phy.plot.dm <- gather(phy.plot.d, SampleID, Abundance, -Phylum)\n",
    "                                       \n",
    "# Order factors in column Phylum by abundance \n",
    "phy.plot.dm$Phylum <- factor(phy.plot.dm$Phylum, \n",
    "                             levels = c(phy.plot.dm$Phylum[order(phy.plot.rs, decreasing = TRUE)]))\n"
   ]
  },
  {
   "cell_type": "code",
   "execution_count": 60,
   "metadata": {},
   "outputs": [],
   "source": [
    "# Prepare colors \n",
    "plot.col <- c(brewer.pal(n = 8, name = \"Dark2\"), replicate('#666666', n = 7))\n"
   ]
  },
  {
   "cell_type": "code",
   "execution_count": 61,
   "metadata": {},
   "outputs": [],
   "source": [
    "# Plot as a barplot \n",
    "phy.plot <- ggplot(phy.plot.dm, aes(x = SampleID, y = Abundance, fill = Phylum)) + \n",
    "        geom_bar(stat = \"identity\") + \n",
    "        scale_fill_manual(values = plot.col) + \n",
    "        theme_bw() + \n",
    "        theme(axis.text.x = element_blank(), \n",
    "              panel.grid = element_blank(), \n",
    "              axis.ticks.x = element_blank(), )\n",
    "\n",
    "# Save plots \n",
    "ggsave(filename = \"output/3_filtering_mormalization/phylum_plot.pdf\", width = 10, height = 5.5)\n",
    "\n",
    "ggsave(filename = \"output/3_filtering_mormalization/phylum_plot.jpg\", width = 10, height = 5.5, dpi = 400)\n"
   ]
  },
  {
   "cell_type": "code",
   "execution_count": 70,
   "metadata": {},
   "outputs": [],
   "source": [
    "# Abundance summary table \n",
    "##########################\n",
    "# Prepare data \n",
    "rownames(phy.plot.d) <- phy.plot.d$Phylum\n",
    "\n",
    "phy.plot.d2 <- phy.plot.d[, ! colnames(phy.plot.d) %in% \"Phylum\"]\n"
   ]
  },
  {
   "cell_type": "code",
   "execution_count": 102,
   "metadata": {},
   "outputs": [
    {
     "name": "stderr",
     "output_type": "stream",
     "text": [
      "Warning message in ci.numeric(newX[, i], ...):\n",
      "“No class or unkown class.  Using default calcuation.”Warning message in ci.numeric(newX[, i], ...):\n",
      "“No class or unkown class.  Using default calcuation.”Warning message in ci.numeric(newX[, i], ...):\n",
      "“No class or unkown class.  Using default calcuation.”Warning message in ci.numeric(newX[, i], ...):\n",
      "“No class or unkown class.  Using default calcuation.”Warning message in ci.numeric(newX[, i], ...):\n",
      "“No class or unkown class.  Using default calcuation.”Warning message in ci.numeric(newX[, i], ...):\n",
      "“No class or unkown class.  Using default calcuation.”Warning message in ci.numeric(newX[, i], ...):\n",
      "“No class or unkown class.  Using default calcuation.”Warning message in ci.numeric(newX[, i], ...):\n",
      "“No class or unkown class.  Using default calcuation.”Warning message in ci.numeric(newX[, i], ...):\n",
      "“No class or unkown class.  Using default calcuation.”Warning message in ci.numeric(newX[, i], ...):\n",
      "“No class or unkown class.  Using default calcuation.”Warning message in ci.numeric(newX[, i], ...):\n",
      "“No class or unkown class.  Using default calcuation.”Warning message in ci.numeric(newX[, i], ...):\n",
      "“No class or unkown class.  Using default calcuation.”Warning message in ci.numeric(newX[, i], ...):\n",
      "“No class or unkown class.  Using default calcuation.”Warning message in ci.numeric(newX[, i], ...):\n",
      "“No class or unkown class.  Using default calcuation.”Warning message in ci.numeric(newX[, i], ...):\n",
      "“No class or unkown class.  Using default calcuation.”"
     ]
    }
   ],
   "source": [
    "# Abundance summary and CI\n",
    "sum.t <- as.data.frame(summary(t(phy.plot.d2)))\n",
    "\n",
    "sum.t2<- as.data.frame(cbind(as.character(sum.t$Var2), \n",
    "              str_split(sum.t$Freq, pattern = \":\", simplify = TRUE)))\n",
    "\n",
    "sum.t3 <- spread(sum.t2, V2, V3)\n",
    "\n",
    "summ.save <- cbind(sum.t3,  round(t(apply(phy.plot.d2, 1, ci)), 2))\n",
    "\n",
    "write_csv(x = summ.save, path = \"output/3_filtering_mormalization/phylum_abundance.csv\")"
   ]
  }
 ],
 "metadata": {
  "kernelspec": {
   "display_name": "R",
   "language": "R",
   "name": "ir"
  },
  "language_info": {
   "codemirror_mode": "r",
   "file_extension": ".r",
   "mimetype": "text/x-r-source",
   "name": "R",
   "pygments_lexer": "r",
   "version": "3.6.1"
  }
 },
 "nbformat": 4,
 "nbformat_minor": 4
}
