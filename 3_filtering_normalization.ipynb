{
 "cells": [
  {
   "cell_type": "code",
   "execution_count": null,
   "metadata": {},
   "outputs": [],
   "source": [
    "##########################################\n",
    "# Filtering and normalization of ASV count \n",
    "##########################################\n"
   ]
  },
  {
   "cell_type": "code",
   "execution_count": 2,
   "metadata": {},
   "outputs": [
    {
     "data": {
      "text/html": [
       "<ol>\n",
       "\t<li>TRUE</li>\n",
       "\t<li>TRUE</li>\n",
       "</ol>\n"
      ],
      "text/latex": [
       "\\begin{enumerate}\n",
       "\\item TRUE\n",
       "\\item TRUE\n",
       "\\end{enumerate}\n"
      ],
      "text/markdown": [
       "1. TRUE\n",
       "2. TRUE\n",
       "\n",
       "\n"
      ],
      "text/plain": [
       "[[1]]\n",
       "[1] TRUE\n",
       "\n",
       "[[2]]\n",
       "[1] TRUE\n"
      ]
     },
     "metadata": {},
     "output_type": "display_data"
    }
   ],
   "source": [
    "# load libraries\n",
    "set.seed(32426)\n",
    "\n",
    "source(\"scr/functions/general/load_abs_install_pkg.R\")\n",
    "\n",
    "load_abs_install_pkg(c(\"phyloseq\", \"metagenomeSeq\"))\n"
   ]
  },
  {
   "cell_type": "code",
   "execution_count": 3,
   "metadata": {},
   "outputs": [],
   "source": [
    "# Read in phyloseq from DADA2\n",
    "ps.0 <- readRDS(\"output/2_dada2/phyloseq0.rds\")\n"
   ]
  },
  {
   "cell_type": "code",
   "execution_count": 5,
   "metadata": {},
   "outputs": [],
   "source": [
    "# Remove taxa that have count or/end prevalence less than 3 \n",
    "###########################################################\n",
    "\n",
    "# Have count less than 3 \n",
    "ps.0f <- prune_taxa(taxa = colSums(ps.0@otu_table) > 3 , x= ps.0) \n",
    "\n",
    "# Have privalence less that 3 \n",
    "otu_prev <- otu_table(ps.0f)\n",
    "\n",
    "otu_prev[otu_prev > 1] <- 1\n",
    "\n",
    "ps_tf1 <- prune_taxa(taxa = colSums(otu_prev) > 3 , x= ps.0f)"
   ]
  },
  {
   "cell_type": "code",
   "execution_count": 6,
   "metadata": {},
   "outputs": [],
   "source": [
    "#Remove sample that have less than a 1000 observations \n",
    "######################################################\n",
    "\n",
    "o.tab.ps_tf1 <- otu_table(ps_tf1)\n",
    "\n",
    "ps_tf2 <- prune_samples(samples = rownames(o.tab.ps_tf1)[rowSums(o.tab.ps_tf1) > 1000], ps_tf1)\n"
   ]
  },
  {
   "cell_type": "code",
   "execution_count": 7,
   "metadata": {},
   "outputs": [
    {
     "name": "stderr",
     "output_type": "stream",
     "text": [
      "Default value being used.\n"
     ]
    }
   ],
   "source": [
    "# Normalize ASVs abundance using CSS as implemented in metagenomSeq \n",
    "###################################################################\n",
    "\n",
    "# Prepare data from phyloseq package \n",
    "mg.ps_tf2 <- phyloseq_to_metagenomeSeq(ps_tf2)\n",
    "\n",
    "# Calculate cumulative statistics \n",
    "p <- metagenomeSeq::cumNormStatFast(mg.ps_tf2)\n",
    "\n",
    "# Normalize count \n",
    "mg.c.ps_tf2 <- metagenomeSeq::cumNorm(mg.ps_tf2, p = p)\n",
    "\n",
    "# Convert metagenomSeq object with normolized count a into dataframe  \n",
    "css.otu.all <- data.frame(otu_table(metagenomeSeq::MRcounts(mg.c.ps_tf2, \n",
    "                        norm = TRUE, log = TRUE), taxa_are_rows = FALSE))\n",
    "\n"
   ]
  },
  {
   "cell_type": "code",
   "execution_count": 26,
   "metadata": {},
   "outputs": [],
   "source": [
    "# Adjust names and table format of the otu table \n",
    "css.otu.all.m <- as.matrix(t(css.otu.all))\n",
    "\n",
    "rname <- gsub(\"[.]\", \"-\", rownames(css.otu.all.m))\n",
    "\n",
    "rownames(css.otu.all.m) <- gsub(\"X\", \"\", rname)\n",
    "\n"
   ]
  },
  {
   "cell_type": "code",
   "execution_count": 27,
   "metadata": {},
   "outputs": [
    {
     "name": "stderr",
     "output_type": "stream",
     "text": [
      "Warning message in dir.create(\"output/objects/phyloseq\"):\n",
      "“'output/objects/phyloseq' already exists”"
     ]
    }
   ],
   "source": [
    "# Make a phyloseq object with normolized taxa count and save it \n",
    "###############################################################\n",
    "ps_tf2_css <- ps_tf2\n",
    "\n",
    "ps_tf2_css@otu_table@.Data <- css.otu.all.m \n",
    "\n",
    "dir.create(\"output/3_filtering_mormalization\")\n",
    "saveRDS(ps_tf2_css, \"output/3_filtering_mormalization/ps_tf2_css.RDS\")"
   ]
  }
 ],
 "metadata": {
  "kernelspec": {
   "display_name": "R",
   "language": "R",
   "name": "ir"
  },
  "language_info": {
   "codemirror_mode": "r",
   "file_extension": ".r",
   "mimetype": "text/x-r-source",
   "name": "R",
   "pygments_lexer": "r",
   "version": "3.6.1"
  }
 },
 "nbformat": 4,
 "nbformat_minor": 4
}
