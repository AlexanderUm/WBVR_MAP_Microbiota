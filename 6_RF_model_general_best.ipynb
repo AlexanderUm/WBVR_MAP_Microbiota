{
 "cells": [
  {
   "cell_type": "code",
   "execution_count": null,
   "metadata": {},
   "outputs": [],
   "source": [
    "##############################################################\n",
    "# 6. General random  forest model \n",
    "# - Find the best assign shedding class based on accuracy \n",
    "#   of classification. \n",
    "##############################################################"
   ]
  },
  {
   "cell_type": "code",
   "execution_count": 10,
   "metadata": {},
   "outputs": [
    {
     "data": {
      "text/html": [
       "<ol>\n",
       "\t<li>TRUE</li>\n",
       "\t<li>TRUE</li>\n",
       "\t<li>TRUE</li>\n",
       "\t<li>TRUE</li>\n",
       "\t<li>TRUE</li>\n",
       "\t<li>TRUE</li>\n",
       "\t<li>TRUE</li>\n",
       "</ol>\n"
      ],
      "text/latex": [
       "\\begin{enumerate}\n",
       "\\item TRUE\n",
       "\\item TRUE\n",
       "\\item TRUE\n",
       "\\item TRUE\n",
       "\\item TRUE\n",
       "\\item TRUE\n",
       "\\item TRUE\n",
       "\\end{enumerate}\n"
      ],
      "text/markdown": [
       "1. TRUE\n",
       "2. TRUE\n",
       "3. TRUE\n",
       "4. TRUE\n",
       "5. TRUE\n",
       "6. TRUE\n",
       "7. TRUE\n",
       "\n",
       "\n"
      ],
      "text/plain": [
       "[[1]]\n",
       "[1] TRUE\n",
       "\n",
       "[[2]]\n",
       "[1] TRUE\n",
       "\n",
       "[[3]]\n",
       "[1] TRUE\n",
       "\n",
       "[[4]]\n",
       "[1] TRUE\n",
       "\n",
       "[[5]]\n",
       "[1] TRUE\n",
       "\n",
       "[[6]]\n",
       "[1] TRUE\n",
       "\n",
       "[[7]]\n",
       "[1] TRUE\n"
      ]
     },
     "metadata": {},
     "output_type": "display_data"
    }
   ],
   "source": [
    "# Load required libraries \n",
    "#########################\n",
    "\n",
    "set.seed(4597234)\n",
    "\n",
    "source(\"scr/functions/general/load_abs_install_pkg.R\")\n",
    "\n",
    "load_abs_install_pkg(c(\"phyloseq\", \"tidyverse\", \"foreach\", \"doParallel\",\n",
    "                       \"randomForest\", \"rfPermute\", \"ComplexHeatmap\"))\n",
    "\n",
    "dir.create(\"output/6_RF_general_model\")"
   ]
  },
  {
   "cell_type": "code",
   "execution_count": 4,
   "metadata": {},
   "outputs": [],
   "source": [
    "# Extract and format data for RF model\n",
    "######################################\n",
    "\n",
    "ps.tf.css.01 <- readRDS(\"output/objects/phyloseq/ps_tf_css_011.RDS\")\n",
    "\n",
    "source(\"scr/functions/data_for_rf.R\")\n",
    "\n",
    "rf.data.css.01 <- data_for_rf(phyloseq = ps.tf.css.01, \n",
    "                              class.column = 'WeightedScoreII', \n",
    "                              remove.taxa.prev.less.than = 1, \n",
    "                              return.df = TRUE)\n",
    "\n",
    "rf.data.css.01$WeightedScoreII <- as.numeric(as.character(rf.data.css.01$WeightedScoreII))\n"
   ]
  },
  {
   "cell_type": "code",
   "execution_count": 5,
   "metadata": {},
   "outputs": [],
   "source": [
    "# Create a list of datasets with different configuration of shedding groups \n",
    "###########################################################################\n",
    "\n",
    "# Extract and order shedding score\n",
    "score <- unique(rf.data.css.01$WeightedScoreII)\n",
    "\n",
    "score <- score[order(score, decreasing = TRUE)]\n",
    "\n",
    "# Create datasets with different configuration of High and Low groups\n",
    "rfd.cat.l <- list()\n",
    "\n",
    "for (s in 4:(length(score)-4)) {\n",
    "    \n",
    "    rfd.cat <- rf.data.css.01\n",
    "    \n",
    "    colnames(rfd.cat)[colnames(rfd.cat) %in% \"WeightedScoreII\"] <- \"Shedder\"\n",
    "    \n",
    "    rfd.cat$Shedder <- as.factor(ifelse(rfd.cat$Shedder < score[s], \"Low\", \"High\"))\n",
    "    \n",
    "    rfd.cat.l[[s]] <- rfd.cat\n",
    "}\n"
   ]
  },
  {
   "cell_type": "code",
   "execution_count": 6,
   "metadata": {},
   "outputs": [],
   "source": [
    "# Make RF models \n",
    "################\n",
    "\n",
    "cl <- makeCluster(24)\n",
    "\n",
    "registerDoParallel(cl)\n",
    "\n",
    "rf.cat.l.res <- foreach(p=4:length(rfd.cat.l),.packages = \"randomForest\") %dopar% {\n",
    "    \n",
    "                randomForest(Shedder ~ ., \n",
    "                             data=rfd.cat.l[[p]], \n",
    "                             importance=TRUE,\n",
    "                             proximity=TRUE, \n",
    "                             ntree=7501) \n",
    "                }\n",
    "\n",
    "stopCluster(cl)\n"
   ]
  },
  {
   "cell_type": "code",
   "execution_count": 7,
   "metadata": {},
   "outputs": [],
   "source": [
    "# Extract and format data for plotting \n",
    "######################################\n",
    "\n",
    "# Extract data from the list \n",
    "rf.plot.d <- c()\n",
    "\n",
    "for (i in 1:length(rf.cat.l.res)) {\n",
    "    \n",
    "    rf.ind <- rf.cat.l.res[[i]]\n",
    "    \n",
    "    rf.plot.d <- rbind(rf.plot.d, cbind(rf.ind$confusion, rep(i, 2)))\n",
    "}\n",
    "\n",
    "# Format data for plotting \n",
    "rf.plot.d <- data.frame(rf.plot.d)\n",
    "\n",
    "rf.plot.d$Class <- sub(\"\\\\.\", \"\", rownames(rf.plot.d))\n",
    "\n",
    "rf.plot.d$Class <- gsub(\"[0-9]\", \"\", rf.plot.d$Class)\n",
    "\n",
    "rf.plot.d$Split <- as.character(rep(score[4:(length(score)-4)], each = 2))\n"
   ]
  },
  {
   "cell_type": "code",
   "execution_count": 12,
   "metadata": {},
   "outputs": [],
   "source": [
    "# Plot best category             \n",
    "split.rf <- ggplot(rf.plot.d, aes(x=Split, y=class.error, color=Class)) + \n",
    "\n",
    "                geom_point(size=3) + \n",
    "\n",
    "                theme_bw() + \n",
    "\n",
    "                theme(axis.text.x = element_text(angle = 90, vjust = 0.5)) + \n",
    "                                            \n",
    "                scale_color_manual(values = c(\"steelblue\", \"gold3\"))\n",
    "\n",
    "ggsave(filename = \"output/6_RF_general_model/best_cat_rf.png\", \n",
    "       plot = split.rf, width = 5, height = 3.5, dpi = 400)\n",
    "\n",
    "ggsave(filename = \"output/6_RF_general_model/best_cat_rf.pdf\", \n",
    "       plot = split.rf, width = 5, height = 3.5)\n"
   ]
  },
  {
   "cell_type": "code",
   "execution_count": null,
   "metadata": {},
   "outputs": [],
   "source": [
    "#################################################\n",
    "# Best possible RF model for the complite dataset\n",
    "#################################################\n"
   ]
  },
  {
   "cell_type": "code",
   "execution_count": 15,
   "metadata": {},
   "outputs": [],
   "source": [
    "# Prepare data for RF model \n",
    "###########################\n",
    "\n",
    "ps.tf.css.01 <- readRDS(\"output/objects/phyloseq/ps_tf_css_011.RDS\")\n",
    "\n",
    "source(\"scr/functions/data_for_rf.R\")\n",
    "\n",
    "rf.data.css <- data_for_rf(phyloseq = ps.tf.css.01, \n",
    "                              class.column = 'WeightedScoreII', \n",
    "                              remove.taxa.prev.less.than = 1, \n",
    "                              return.df = TRUE)\n",
    "\n",
    "rf.data.css$WeightedScoreII <- as.numeric(as.character(rf.data.css$WeightedScoreII))\n",
    "\n",
    "colnames(rf.data.css)[colnames(rf.data.css) %in% \"WeightedScoreII\"] <- \"Shedder\"\n",
    "\n",
    "rf.data.css$Shedder <- as.factor(ifelse(rf.data.css$Shedder < 0.51, \"Low\", \"High\"))\n"
   ]
  },
  {
   "cell_type": "code",
   "execution_count": 16,
   "metadata": {},
   "outputs": [],
   "source": [
    "# Determine best mtry and ntree for general rf model\n",
    "####################################################\n",
    "\n",
    "source(\"scr/functions/Tree_Mtry_Plot.r\")\n",
    "\n",
    "cl <- makeCluster(36)\n",
    "\n",
    "registerDoParallel(cl)\n",
    "\n",
    "tree.mtry.plot.all <- Tree_Mtry_Plot(data = rf.data.css, \n",
    "                                     ntrees = c(7001, 10001, 15001), \n",
    "                                     start_val = round(sqrt(ncol(rf.data.css)), 0), \n",
    "                                     stepF = 0.5, \n",
    "                                     class_colum = \"Shedder\", \n",
    "                                     ntimes = 5)\n",
    "\n",
    "stopCluster(cl)\n"
   ]
  },
  {
   "cell_type": "code",
   "execution_count": 18,
   "metadata": {},
   "outputs": [],
   "source": [
    "ggsave(filename = \"output/6_RF_general_model/general_rf_mtry.png\", plot = tree.mtry.plot.all, \n",
    "       width = 5, height = 4,  dpi = 400) \n",
    "\n",
    "ggsave(filename = \"output/6_RF_general_model/general_rf_mtry.pdf\", plot = tree.mtry.plot.all, \n",
    "       width = 5, height = 4) \n"
   ]
  }
 ],
 "metadata": {
  "kernelspec": {
   "display_name": "R",
   "language": "R",
   "name": "ir"
  },
  "language_info": {
   "codemirror_mode": "r",
   "file_extension": ".r",
   "mimetype": "text/x-r-source",
   "name": "R",
   "pygments_lexer": "r",
   "version": "3.6.1"
  }
 },
 "nbformat": 4,
 "nbformat_minor": 4
}
