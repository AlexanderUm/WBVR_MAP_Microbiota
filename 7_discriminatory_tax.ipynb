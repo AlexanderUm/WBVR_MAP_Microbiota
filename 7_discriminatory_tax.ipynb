{
 "cells": [
  {
   "cell_type": "code",
   "execution_count": null,
   "metadata": {},
   "outputs": [],
   "source": [
    "###################################################\n",
    "# Taxa significantly contributing to classification \n",
    "###################################################\n"
   ]
  },
  {
   "cell_type": "code",
   "execution_count": 2,
   "metadata": {},
   "outputs": [
    {
     "data": {
      "text/html": [
       "<ol>\n",
       "\t<li>TRUE</li>\n",
       "\t<li>TRUE</li>\n",
       "\t<li>TRUE</li>\n",
       "\t<li>TRUE</li>\n",
       "</ol>\n"
      ],
      "text/latex": [
       "\\begin{enumerate}\n",
       "\\item TRUE\n",
       "\\item TRUE\n",
       "\\item TRUE\n",
       "\\item TRUE\n",
       "\\end{enumerate}\n"
      ],
      "text/markdown": [
       "1. TRUE\n",
       "2. TRUE\n",
       "3. TRUE\n",
       "4. TRUE\n",
       "\n",
       "\n"
      ],
      "text/plain": [
       "[[1]]\n",
       "[1] TRUE\n",
       "\n",
       "[[2]]\n",
       "[1] TRUE\n",
       "\n",
       "[[3]]\n",
       "[1] TRUE\n",
       "\n",
       "[[4]]\n",
       "[1] TRUE\n"
      ]
     },
     "metadata": {},
     "output_type": "display_data"
    },
    {
     "name": "stderr",
     "output_type": "stream",
     "text": [
      "Warning message in dir.create(\"output/7_discriminatory_tax\"):\n",
      "“'output/7_discriminatory_tax' already exists”"
     ]
    }
   ],
   "source": [
    "# Set enviornment \n",
    "#################\n",
    "\n",
    "set.seed(9356947)\n",
    "\n",
    "source(\"scr/functions/general/load_abs_install_pkg.R\")\n",
    "\n",
    "load_abs_install_pkg(c(\"phyloseq\", \"tidyverse\", \"rfPermute\", \"ComplexHeatmap\"))\n",
    "\n",
    "dir.create(\"output/7_discriminatory_tax\")\n"
   ]
  },
  {
   "cell_type": "code",
   "execution_count": 3,
   "metadata": {},
   "outputs": [],
   "source": [
    "# Build random forest model with permutations\n",
    "# rfPremute package\n",
    "#############################################\n",
    "\n",
    "# Prepare data for RF model \n",
    "# * from the source\n",
    "###########################\n",
    "\n",
    "ps.tf.css.01 <- readRDS(\"output/3_filtering_mormalization/ps_tf2_css.RDS\")\n",
    "\n",
    "source(\"scr/functions/data_for_rf.R\")\n",
    "\n",
    "rf.data.css <- data_for_rf(phyloseq = ps.tf.css.01, \n",
    "                              class.column = 'WeightedScoreII', \n",
    "                              remove.taxa.prev.less.than = 1, \n",
    "                              return.df = TRUE)\n",
    "\n",
    "rf.data.css$WeightedScoreII <- as.numeric(as.character(rf.data.css$WeightedScoreII))\n",
    "\n",
    "colnames(rf.data.css)[colnames(rf.data.css) %in% \"WeightedScoreII\"] <- \"Shedder\"\n",
    "\n",
    "rf.data.css$Shedder <- as.factor(ifelse(rf.data.css$Shedder < 0.51, \"Low\", \"High\"))\n",
    "\n",
    "# Adjust input data \n",
    "# Current row names give an error \n",
    "\n",
    "rf.data.perm <- rf.data.css\n",
    "\n",
    "rownames(rf.data.perm) <- paste0(\"Sample_\", 1:nrow(rf.data.css))\n"
   ]
  },
  {
   "cell_type": "code",
   "execution_count": 8,
   "metadata": {},
   "outputs": [],
   "source": [
    "# Build the random forest model with optimal parameters\n",
    "# and find taxa significantly contributing to classification \n",
    "############################################################\n",
    "\n",
    "# set.seed(43957)\n",
    "# rf.perm.obj <- rfPermute(Shedder ~ ., \n",
    "#                          data = rf.data.perm, \n",
    "#                          importance=TRUE,\n",
    "#                          proximity=TRUE, \n",
    "#                          mtry = 284,\n",
    "#                          ntree= 15001, \n",
    "#                          nrep = 999,\n",
    "#                          num.cores = 32)\n",
    "\n",
    "# save(rf.perm.obj, file = \"output/plots/7_discriminatory_tax/srf_perm_obj.RData\")\n"
   ]
  },
  {
   "cell_type": "code",
   "execution_count": 6,
   "metadata": {},
   "outputs": [],
   "source": [
    "# Extract features that are significantly affecting mean accuracy and the Gini index\n",
    "####################################################################################\n",
    "\n",
    "pval.rf.perm <- data.frame(rf.perm.obj$pval)\n",
    "\n",
    "pval.rf.perm.s0 <- pval.rf.perm[pval.rf.perm$MeanDecreaseAccuracy.scaled < 0.05, ]\n",
    "\n",
    "pval.rf.perm.s1 <- pval.rf.perm.s0[pval.rf.perm.s0$MeanDecreaseGini.scaled < 0.05, ]"
   ]
  },
  {
   "cell_type": "code",
   "execution_count": 8,
   "metadata": {},
   "outputs": [
    {
     "data": {
      "text/html": [
       "<strong>png:</strong> 2"
      ],
      "text/latex": [
       "\\textbf{png:} 2"
      ],
      "text/markdown": [
       "**png:** 2"
      ],
      "text/plain": [
       "png \n",
       "  2 "
      ]
     },
     "metadata": {},
     "output_type": "display_data"
    }
   ],
   "source": [
    "# Plot abundance of significantly contributing taxa \n",
    "########################################################\n",
    "\n",
    "# Prepare data \n",
    "abund.heat <- rf.data.perm[, colnames(rf.data.perm) %in% rownames(pval.rf.perm.s1)]\n",
    "\n",
    "# Order rows by status \n",
    "abund.heat <- abund.heat[order(rf.data.perm$Shedder), ]\n",
    "\n",
    "# Order columns by abundance  \n",
    "abund.heat <- abund.heat[,order(colSums(abund.heat)) ]\n",
    "\n",
    "# Prepare data for colored bar \n",
    "col.stat <- c(\"steelblue\", \"gold3\")\n",
    "\n",
    "names(col.stat) <- c(\"High\", \"Low\")\n",
    "\n",
    "heat.ant.0 <- data.frame(as.character(rf.data.perm$Shedder))\n",
    "\n",
    "heat.ant.0$rnam <- rownames(rf.data.perm)\n",
    "\n",
    "rownames(heat.ant.0) <- rownames(rf.data.perm)\n",
    "\n",
    "heat.ant.0 <- heat.ant.0[rownames(abund.heat), ]\n",
    "\n",
    "heat.ant <- data.frame(heat.ant.0[,1])\n",
    "\n",
    "colnames(heat.ant) <- \"Shedding\"\n",
    "\n",
    "rownames(heat.ant) <- heat.ant.0$rnam\n",
    "\n",
    "ha =  HeatmapAnnotation(df = heat.ant, col = list(Shedding = col.stat))\n",
    "\n",
    "# Plot the heatmap \n",
    "set.seed(69734)\n",
    "\n",
    "g.heat.abound <- ComplexHeatmap::Heatmap(t(abund.heat), \n",
    "                        top_annotation = ha, \n",
    "                        show_column_names = FALSE, \n",
    "                        #km = 2,\n",
    "                        show_row_names = FALSE,\n",
    "                        #col = my_palette, \n",
    "                        cluster_columns = FALSE,\n",
    "                        cluster_rows = TRUE,\n",
    "                        name = \"Abundance\" )\n",
    "\n",
    "pdf(\"output/7_discriminatory_tax/heatmap_sigt_relative.pdf\", width = 6, height = 3.5, paper='special')\n",
    "g.heat.abound\n",
    "dev.off()"
   ]
  },
  {
   "cell_type": "code",
   "execution_count": 9,
   "metadata": {},
   "outputs": [],
   "source": [
    "# Box plot - local function\n",
    "###########################\n",
    "\n",
    "box_sig <- function(data.matrix, heat.ant, prev) {\n",
    "    \n",
    "    #Prepare data \n",
    "    if (prev == TRUE) {\n",
    "        \n",
    "        High <- (as.vector(colSums(data.matrix[heat.ant$Shedding %in% \"High\", ]))/\n",
    "                  length(heat.ant$Shedding[heat.ant$Shedding %in% \"High\"]))*100\n",
    "\n",
    "        Low <- (as.vector(colSums(data.matrix[heat.ant$Shedding %in% \"Low\", ]))/\n",
    "                  length(heat.ant$Shedding[heat.ant$Shedding %in% \"Low\"]))*100\n",
    "        \n",
    "    } else {\n",
    "        \n",
    "        High <- as.vector(colMeans(data.matrix[heat.ant$Shedding %in% \"High\", ]))\n",
    "        Low <- as.vector(colMeans(data.matrix[heat.ant$Shedding %in% \"Low\", ]))   \n",
    "        \n",
    "    }\n",
    "\n",
    "\n",
    "    d <- data.frame(High = High, Low = Low)\n",
    "\n",
    "    # Add samples names as column names \n",
    "    d$Taxa <- colnames(data.matrix)[1:ncol(data.matrix)]\n",
    "\n",
    "    # Add column with an indication if taxa decrease or increase in the groups  \n",
    "    d$colr <- ifelse(d$High <= d$Low, \"Increase\", \"Dicrease\")\n",
    "\n",
    "    # Melt the dataframe \n",
    "    d.m <- reshape2::melt(d) \n",
    "\n",
    "    # Convert column Taxa into factor \n",
    "    d.m$Taxa <- factor(d.m$Taxa)\n",
    "\n",
    "    # Add value for a proper log transformation \n",
    "    if (prev == FALSE) {\n",
    "        d.m$value <- d.m$value + 0.01\n",
    "    }\n",
    "\n",
    "\n",
    "# Plot the results \n",
    "    if (prev == TRUE) {\n",
    "        \n",
    "        p.box <- ggplot(d.m, aes(x = variable, y = value)) +   \n",
    "                  geom_point() + \n",
    "                  geom_line(aes(group = Taxa, color=colr), size = 0.8, alpha=0.75) +   \n",
    "                  geom_boxplot(alpha=0.01) + theme_bw() + theme(legend.position = \"none\") + \n",
    "                  ylab(\"Prevalence (%)\") + \n",
    "                  xlab(\"Status\")\n",
    "        \n",
    "    } else {\n",
    "        \n",
    "        p.box <- ggplot(d.m, aes(x = variable, y = log(value))) +   \n",
    "                  geom_point() + \n",
    "                  geom_line(aes(group = Taxa, color=colr), size = 0.8, alpha=0.75) +   \n",
    "                  geom_boxplot(alpha=0.01) + theme_bw() + theme(legend.position = \"none\") + \n",
    "                  ylab(\"Abundance (Log)\") + \n",
    "                  xlab(\"Status\")\n",
    "        \n",
    "    }\n",
    "    \n",
    "return(p.box)\n",
    "    \n",
    "}\n"
   ]
  },
  {
   "cell_type": "code",
   "execution_count": 10,
   "metadata": {},
   "outputs": [
    {
     "name": "stderr",
     "output_type": "stream",
     "text": [
      "Using Taxa, colr as id variables\n"
     ]
    }
   ],
   "source": [
    "sig.abund.box <- box_sig(data.matrix = abund.heat, heat.ant = heat.ant, prev = FALSE)\n",
    "\n",
    "ggsave(\"output/7_discriminatory_tax/MeanAbandSig.pdf\", sig.abund.box, width = 3, height = 5)\n",
    "\n",
    "ggsave(\"output/7_discriminatory_tax/MeanAbandSig.png\", sig.abund.box, width = 3, height = 5, dpi = 300)\n"
   ]
  },
  {
   "cell_type": "code",
   "execution_count": 11,
   "metadata": {},
   "outputs": [
    {
     "data": {
      "text/html": [
       "<strong>png:</strong> 2"
      ],
      "text/latex": [
       "\\textbf{png:} 2"
      ],
      "text/markdown": [
       "**png:** 2"
      ],
      "text/plain": [
       "png \n",
       "  2 "
      ]
     },
     "metadata": {},
     "output_type": "display_data"
    }
   ],
   "source": [
    "# Plot prevalence difference between groups \n",
    "##########################################\n",
    "\n",
    "# Heatmap data \n",
    "prev.heat <- abund.heat\n",
    "\n",
    "prev.heat[prev.heat > 0] <- 1 \n",
    "\n",
    "# Plot the heatmap \n",
    "set.seed(69734)\n",
    "\n",
    "g.heat.prev <- ComplexHeatmap::Heatmap(t(prev.heat), \n",
    "                                         top_annotation = ha, \n",
    "                                         show_column_names = FALSE, \n",
    "                                         #km = 2,\n",
    "                                         show_row_names = FALSE,\n",
    "                                         #col = my_palette, \n",
    "                                         cluster_columns = FALSE,\n",
    "                                         cluster_rows = TRUE,\n",
    "                                         name = \"Abundance\" )\n",
    "\n",
    "# Save plotted results as figure \n",
    "pdf(\"output/7_discriminatory_tax/heatmap_sig_prev.pdf\", width = 6, height = 3.5, paper='special')\n",
    "g.heat.prev\n",
    "dev.off()\n"
   ]
  },
  {
   "cell_type": "code",
   "execution_count": 12,
   "metadata": {},
   "outputs": [
    {
     "name": "stderr",
     "output_type": "stream",
     "text": [
      "Using Taxa, colr as id variables\n"
     ]
    }
   ],
   "source": [
    "# Plot boxplot \n",
    "sig.prev.box <- box_sig(data.matrix = prev.heat, heat.ant = heat.ant, prev = TRUE)\n",
    "\n",
    "ggsave(\"output/7_discriminatory_tax/PrevSig.pdf\", sig.prev.box, width = 3, height = 5)\n",
    "\n",
    "ggsave(\"output/7_discriminatory_tax/PrevSig.png\", sig.prev.box,  width = 3, height = 5, dpi = 400)\n"
   ]
  },
  {
   "cell_type": "code",
   "execution_count": 13,
   "metadata": {},
   "outputs": [],
   "source": [
    "# Taxonomy of significantly contributing taxa \n",
    "#############################################\n",
    "\n",
    "# Select only significantly contributing and core taxa \n",
    "tax.table <- tax_table(ps.tf.css.01)\n",
    "\n",
    "sig.tax <- data.frame(tax.table[rownames(tax.table) %in% colnames(abund.heat), ])\n",
    "\n",
    "# Adjust genus names \n",
    "sig.tax.m <- mutate_all(sig.tax, as.character)\n",
    "\n",
    "rownames(sig.tax.m) <- rownames(sig.tax)\n",
    "\n",
    "for (i in 1:nrow(sig.tax.m)) {\n",
    "    \n",
    "    if (is.na(sig.tax.m$Genus[i])) {\n",
    "        \n",
    "        t.na <- sig.tax.m[i,]\n",
    "        \n",
    "        t.na <- t.na[!is.na(t.na)]\n",
    "        \n",
    "        sig.tax.m$Genus[i] <- paste0(\"Unknown\", \"_(\", t.na[length(t.na)], \")\") \n",
    "    }\n",
    "}"
   ]
  },
  {
   "cell_type": "code",
   "execution_count": 14,
   "metadata": {},
   "outputs": [],
   "source": [
    "# Summary of information about taxa significant for classification.  \n",
    "\n",
    "sig.tax.abund <- rf.data.perm[, rownames(sig.tax.m)]\n",
    "\n",
    "sig.tax.prev <- sig.tax.abund\n",
    "\n",
    "sig.tax.prev[sig.tax.prev > 0] <- 1 \n",
    "\n",
    "sig.tax.m$MeanAdunanceLow <- colMeans(sig.tax.abund[rf.data.perm$Shedder %in% \"Low\", ])\n",
    "\n",
    "sig.tax.m$MeanAdunanceHigh <- colMeans(sig.tax.abund[rf.data.perm$Shedder %in% \"High\", ])\n",
    "\n",
    "sig.tax.m$PrevalenceLow <- colMeans(sig.tax.prev[rf.data.perm$Shedder %in% \"Low\", ]) * 100\n",
    "\n",
    "sig.tax.m$PrevalenceHigh <- colMeans(sig.tax.prev[rf.data.perm$Shedder %in% \"High\", ]) * 100\n",
    "\n",
    "write.csv(sig.tax.m, \"output/7_discriminatory_tax/sig_contr_taxa.csv\")\n"
   ]
  },
  {
   "cell_type": "code",
   "execution_count": 15,
   "metadata": {},
   "outputs": [],
   "source": [
    "# Identify core of significantly contributing taxa \n",
    "###################################################\n",
    "# A taxa identified as core if present in more than 25% of observed population\n",
    "\n",
    "# Subset data \n",
    "\n",
    "core.prev <- prev.heat[, (colSums(prev.heat)/nrow(prev.heat)) > 0.25]\n",
    "\n",
    "core.sig.tax <- data.frame(sig.tax.m[colnames(core.prev), ])\n",
    "\n",
    "core.abund <- abund.heat[, colnames(core.prev)]\n",
    "\n",
    "write.csv(core.sig.tax, \"output/7_discriminatory_tax/core_sig_contr_taxa.csv\")\n"
   ]
  },
  {
   "cell_type": "code",
   "execution_count": 16,
   "metadata": {},
   "outputs": [],
   "source": [
    "# Preparation of the data for plotting as a heatmap \n",
    "core.sig.tax.f <- core.sig.tax[order(as.character(core.sig.tax$Genus)), ]\n",
    "\n",
    "core.sig.tax.f$Genus <- sub(\"UCG-005\", \"Oscillospiraceae_UCG-005\", core.sig.tax.f$Genus)\n",
    "\n",
    "core.sig.tax.f$Genus <- sub(\"dgA-11_gut_group\", \"Rikenellaceae_dgA-11\", core.sig.tax.f$Genus)\n",
    "\n",
    "core.sig.tax.f$Genus <- gsub(\"_gut|_group\", \"\", core.sig.tax.f$Genus)\n",
    "\n",
    "core.abund.h <- core.abund[, rownames(core.sig.tax.f)]\n",
    "\n",
    "colnames(core.abund.h) <- make.unique(core.sig.tax.f$Genus)\n"
   ]
  },
  {
   "cell_type": "code",
   "execution_count": 18,
   "metadata": {},
   "outputs": [
    {
     "data": {
      "text/html": [
       "<strong>png:</strong> 2"
      ],
      "text/latex": [
       "\\textbf{png:} 2"
      ],
      "text/markdown": [
       "**png:** 2"
      ],
      "text/plain": [
       "png \n",
       "  2 "
      ]
     },
     "metadata": {},
     "output_type": "display_data"
    }
   ],
   "source": [
    "#PLot and save the heatmap\n",
    "##########################\n",
    "\n",
    "core.adund.heat <- ComplexHeatmap::Heatmap(t(core.abund.h), \n",
    "                        row_names_side = \"left\", \n",
    "                        top_annotation = ha, \n",
    "                        show_column_names = FALSE, \n",
    "                        #km = 2,\n",
    "                        show_row_names = TRUE,\n",
    "                        #col = my_palette, \n",
    "                        cluster_columns = FALSE,\n",
    "                        cluster_rows = FALSE,\n",
    "                        name = \"Abundance\" )\n",
    "\n",
    "pdf(\"output/7_discriminatory_tax/heatmap_coresig_relative.pdf\", width = 15, height = 8, paper='special')\n",
    "core.adund.heat\n",
    "dev.off()\n"
   ]
  },
  {
   "cell_type": "code",
   "execution_count": 19,
   "metadata": {},
   "outputs": [
    {
     "name": "stderr",
     "output_type": "stream",
     "text": [
      "Using Taxa, colr as id variables\n"
     ]
    }
   ],
   "source": [
    "# Box plot - abundance of core significant taxa \n",
    "core.sig.abund.box <- box_sig(data.matrix = core.abund.h, heat.ant = heat.ant, prev = FALSE)\n",
    "\n",
    "ggsave(\"output/7_discriminatory_tax/AbundCoreSig.pdf\", core.sig.abund.box, width = 3, height = 5)\n",
    "\n",
    "ggsave(\"output/7_discriminatory_tax/AbundCoreSig.png\", core.sig.abund.box,  width = 3, height = 5, dpi = 400)\n"
   ]
  },
  {
   "cell_type": "code",
   "execution_count": 20,
   "metadata": {},
   "outputs": [
    {
     "name": "stderr",
     "output_type": "stream",
     "text": [
      "Using Taxa, colr as id variables\n"
     ]
    }
   ],
   "source": [
    "# Box plot - prevalence of core significant taxa \n",
    "core.prev.h <- core.abund.h\n",
    "\n",
    "core.prev.h[core.prev.h > 0] <- 1\n",
    "\n",
    "core.sig.prev.box <- box_sig(data.matrix = core.prev.h, heat.ant = heat.ant, prev = TRUE)\n",
    "\n",
    "ggsave(\"output/7_discriminatory_tax/PrevCoreSig.pdf\", core.sig.prev.box, width = 3, height = 5)\n",
    "\n",
    "ggsave(\"output/7_discriminatory_tax/PrevCoreSig.png\", core.sig.prev.box,  width = 3, height = 5, dpi = 300)"
   ]
  }
 ],
 "metadata": {
  "kernelspec": {
   "display_name": "R",
   "language": "R",
   "name": "ir"
  },
  "language_info": {
   "codemirror_mode": "r",
   "file_extension": ".r",
   "mimetype": "text/x-r-source",
   "name": "R",
   "pygments_lexer": "r",
   "version": "3.6.1"
  }
 },
 "nbformat": 4,
 "nbformat_minor": 4
}
