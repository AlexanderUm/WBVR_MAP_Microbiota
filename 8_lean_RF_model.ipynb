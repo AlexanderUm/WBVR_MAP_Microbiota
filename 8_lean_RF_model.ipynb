{
 "cells": [
  {
   "cell_type": "code",
   "execution_count": null,
   "metadata": {},
   "outputs": [],
   "source": [
    "#################\n",
    "# \"Lean\" RF model\n",
    "#################"
   ]
  },
  {
   "cell_type": "code",
   "execution_count": 2,
   "metadata": {},
   "outputs": [
    {
     "data": {
      "text/html": [
       "<ol>\n",
       "\t<li>TRUE</li>\n",
       "\t<li>TRUE</li>\n",
       "\t<li>TRUE</li>\n",
       "\t<li>TRUE</li>\n",
       "\t<li>TRUE</li>\n",
       "</ol>\n"
      ],
      "text/latex": [
       "\\begin{enumerate}\n",
       "\\item TRUE\n",
       "\\item TRUE\n",
       "\\item TRUE\n",
       "\\item TRUE\n",
       "\\item TRUE\n",
       "\\end{enumerate}\n"
      ],
      "text/markdown": [
       "1. TRUE\n",
       "2. TRUE\n",
       "3. TRUE\n",
       "4. TRUE\n",
       "5. TRUE\n",
       "\n",
       "\n"
      ],
      "text/plain": [
       "[[1]]\n",
       "[1] TRUE\n",
       "\n",
       "[[2]]\n",
       "[1] TRUE\n",
       "\n",
       "[[3]]\n",
       "[1] TRUE\n",
       "\n",
       "[[4]]\n",
       "[1] TRUE\n",
       "\n",
       "[[5]]\n",
       "[1] TRUE\n"
      ]
     },
     "metadata": {},
     "output_type": "display_data"
    },
    {
     "name": "stderr",
     "output_type": "stream",
     "text": [
      "Warning message in dir.create(\"output/8_lean_RF_model\"):\n",
      "“'output/8_lean_RF_model' already exists”"
     ]
    }
   ],
   "source": [
    "# Set enviornment\n",
    "#################\n",
    "\n",
    "set.seed(49562)\n",
    "\n",
    "source(\"scr/functions/general/load_abs_install_pkg.R\")\n",
    "\n",
    "load_abs_install_pkg(c(\"phyloseq\", \"tidyverse\", \"foreach\", \"doParallel\", \"randomForest\"))\n",
    "\n",
    "dir.create(\"output/8_lean_RF_model\")\n"
   ]
  },
  {
   "cell_type": "code",
   "execution_count": 3,
   "metadata": {},
   "outputs": [],
   "source": [
    "# Extract and format data for RF regression\n",
    "# from phyloseq using a custom function \n",
    "#########################################\n",
    "\n",
    "ps.tf.css.01 <- readRDS(\"output/objects/phyloseq/ps_tf_css_011.RDS\")\n",
    "\n",
    "source(\"scr/functions/data_for_rf.R\")\n",
    "\n",
    "rf.data.css.01 <- data_for_rf(phyloseq = ps.tf.css.01, \n",
    "                              class.column = 'WeightedScoreII', \n",
    "                              remove.taxa.prev.less.than = 1, \n",
    "                              return.df = TRUE)\n",
    "\n",
    "rf.data.css.01$WeightedScoreII <- as.numeric(as.character(rf.data.css.01$WeightedScoreII))\n"
   ]
  },
  {
   "cell_type": "code",
   "execution_count": 15,
   "metadata": {},
   "outputs": [],
   "source": [
    "# Subset only significantly contributing taxa \n",
    "#############################################\n",
    "\n",
    "sig.tax <- read.csv(\"output/plots/7_discriminatory_tax/sig_contr_taxa.csv\")\n",
    "\n",
    "rf.data.css.sig <- rf.data.css.01[, as.character(sig.tax$X)]\n",
    "\n",
    "rf.data.css.sig$WeightedScoreII <- rf.data.css.01$WeightedScoreII\n"
   ]
  },
  {
   "cell_type": "code",
   "execution_count": 5,
   "metadata": {},
   "outputs": [],
   "source": [
    "# Create a list of datasets with different configuration of the shedding groups \n",
    "###############################################################################\n",
    "\n",
    "score <- unique(rf.data.css.sig$WeightedScoreII)\n",
    "\n",
    "score <- score[order(score, decreasing = TRUE)]\n",
    "\n",
    "rfd.cat.l <- list()\n",
    "\n",
    "for (s in 4:(length(score)-4)) {\n",
    "    \n",
    "    rfd.cat <- rf.data.css.sig\n",
    "    \n",
    "    colnames(rfd.cat)[colnames(rfd.cat) %in% \"WeightedScoreII\"] <- \"Shedder\"\n",
    "    \n",
    "    rfd.cat$Shedder <- as.factor(ifelse(rfd.cat$Shedder < score[s], \"Low\", \"High\"))\n",
    "    \n",
    "    rfd.cat.l[[s]] <- rfd.cat\n",
    "    \n",
    "}"
   ]
  },
  {
   "cell_type": "code",
   "execution_count": 6,
   "metadata": {},
   "outputs": [],
   "source": [
    "# Make RF models \n",
    "################\n",
    "\n",
    "cl <- makeCluster(24)\n",
    "registerDoParallel(cl)\n",
    "\n",
    "rf.cat.l.res <- foreach(p=4:length(rfd.cat.l),.packages = \"randomForest\") %dopar% {\n",
    "    \n",
    "                randomForest(Shedder ~ ., \n",
    "                             data=rfd.cat.l[[p]], \n",
    "                             importance=TRUE,\n",
    "                             proximity=TRUE, \n",
    "                             ntree=7501) \n",
    "                }\n",
    "\n",
    "stopCluster(cl)\n"
   ]
  },
  {
   "cell_type": "code",
   "execution_count": 7,
   "metadata": {},
   "outputs": [],
   "source": [
    "# Extract and format data for plotting \n",
    "######################################\n",
    "\n",
    "rf.plot.d <- c()\n",
    "\n",
    "for (i in 1:length(rf.cat.l.res)) {\n",
    "    \n",
    "    rf.ind <- rf.cat.l.res[[i]]\n",
    "    \n",
    "    rf.plot.d <- rbind(rf.plot.d, cbind(rf.ind$confusion, rep(i, 2)))\n",
    "}\n",
    "\n",
    "rf.plot.d <- data.frame(rf.plot.d)\n",
    "\n",
    "rf.plot.d$Class <- sub(\"\\\\.\", \"\", rownames(rf.plot.d))\n",
    "\n",
    "rf.plot.d$Class <- gsub(\"[0-9]\", \"\", rf.plot.d$Class)\n",
    "\n",
    "rf.plot.d$Split <- as.character(rep(score[4:(length(score)-4)], each = 2))\n"
   ]
  },
  {
   "cell_type": "code",
   "execution_count": 10,
   "metadata": {},
   "outputs": [],
   "source": [
    "# Best category split plot \n",
    "##########################\n",
    "\n",
    "lean.rf <- ggplot(rf.plot.d, aes(x=Split, y=class.error, color=Class)) + \n",
    "\n",
    "                                         geom_point(size=3) + \n",
    "\n",
    "                                         theme_bw() + \n",
    "\n",
    "                                         theme(axis.text.x = element_text(angle = 90, vjust = 0.5)) + \n",
    "                                        \n",
    "                                         scale_color_manual(values = c(\"steelblue\", \"gold3\"))\n",
    "\n",
    "ggsave(filename = \"output/8_lean_RF_model/best_cat_leanRF.png\", plot = lean.rf, width = 5, height = 3.5, dpi = 300)\n",
    "\n",
    "ggsave(filename = \"output/8_lean_RF_model/best_cat_leanRF.pdf\", plot = lean.rf, width = 5, height = 3.5)"
   ]
  },
  {
   "cell_type": "code",
   "execution_count": 17,
   "metadata": {},
   "outputs": [],
   "source": [
    "# Determine best mtry and ntree for general rf model\n",
    "####################################################\n",
    "\n",
    "colnames(rf.data.css.sig)[colnames(rf.data.css.sig) %in% \"WeightedScoreII\"] <- \"Shedder\" \n",
    "\n",
    "rf.data.css.sig$Shedder <- as.factor(ifelse(as.numeric(as.character(rf.data.css.sig$Shedder)) < 0.51, \"Low\", \"High\"))\n",
    "\n",
    "source(\"scr/functions/Tree_Mtry_Plot.R\")\n",
    "\n",
    "cl <- makeCluster(5)\n",
    "registerDoParallel(cl)\n",
    "\n",
    "tree.mtry.plot.all <- Tree_Mtry_Plot(data = rf.data.css.sig, \n",
    "                                     ntrees = c(7501, 10001, 15001), \n",
    "                                     start_val = round(sqrt(ncol(rf.data.css.sig)), 0), \n",
    "                                     stepF = 0.5, \n",
    "                                     class_colum = \"Shedder\", \n",
    "                                     ntimes = 5)\n",
    "\n",
    "stopCluster(cl)"
   ]
  },
  {
   "cell_type": "code",
   "execution_count": 18,
   "metadata": {},
   "outputs": [
    {
     "name": "stderr",
     "output_type": "stream",
     "text": [
      "Saving 6.67 x 6.67 in image\n",
      "Saving 6.67 x 6.67 in image\n"
     ]
    }
   ],
   "source": [
    "\n",
    "ggsave(filename = \"output/8_lean_RF_model/lean_rf_mtry.png\", plot = tree.mtry.plot.all, dpi = 400) \n",
    "\n",
    "ggsave(filename = \"output/8_lean_RF_model/lean_rf_mtry.pdf\", plot = tree.mtry.plot.all) "
   ]
  }
 ],
 "metadata": {
  "kernelspec": {
   "display_name": "R",
   "language": "R",
   "name": "ir"
  },
  "language_info": {
   "codemirror_mode": "r",
   "file_extension": ".r",
   "mimetype": "text/x-r-source",
   "name": "R",
   "pygments_lexer": "r",
   "version": "3.6.1"
  }
 },
 "nbformat": 4,
 "nbformat_minor": 4
}
