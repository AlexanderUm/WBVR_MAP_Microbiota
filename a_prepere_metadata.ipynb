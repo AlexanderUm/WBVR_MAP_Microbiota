{
 "cells": [
  {
   "cell_type": "markdown",
   "metadata": {},
   "source": [
    "#### Make metadata\n",
    "\n",
    "Information from PDF reports from BaseClear combined copied into csv files (data/metadata/Run1 .../Run3). \n",
    "Metadata cleaned and mearged with shedding metadata. "
   ]
  },
  {
   "cell_type": "code",
   "execution_count": 115,
   "metadata": {},
   "outputs": [
    {
     "data": {
      "text/html": [
       "<ol>\n",
       "\t<li>TRUE</li>\n",
       "\t<li>TRUE</li>\n",
       "</ol>\n"
      ],
      "text/latex": [
       "\\begin{enumerate}\n",
       "\\item TRUE\n",
       "\\item TRUE\n",
       "\\end{enumerate}\n"
      ],
      "text/markdown": [
       "1. TRUE\n",
       "2. TRUE\n",
       "\n",
       "\n"
      ],
      "text/plain": [
       "[[1]]\n",
       "[1] TRUE\n",
       "\n",
       "[[2]]\n",
       "[1] TRUE\n"
      ]
     },
     "metadata": {},
     "output_type": "display_data"
    }
   ],
   "source": [
    "source(\"scr/functions/general/load_abs_install_pkg.R\")\n",
    "load_abs_install_pkg(c(\"tidyverse\", \"lubridate\"))"
   ]
  },
  {
   "cell_type": "code",
   "execution_count": 116,
   "metadata": {},
   "outputs": [
    {
     "name": "stderr",
     "output_type": "stream",
     "text": [
      "Joining, by = c(\"SampleID\", \"Run\", \"SampleType\")\n"
     ]
    }
   ],
   "source": [
    "#Clean and prepera metadata for Run 1\n",
    "#######################################\n",
    "m1 <- read.csv(\"data/metadata/Run1.csv\")\n",
    "m1 <- mutate_all(m1, as.character)\n",
    "m1[,1] <- sub(\" X\", \"\", m1[,1])\n",
    "m1.t <- m1[m1[,3] %in% \"Target\", ]\n",
    "m1.t[,1] <- gsub(\"-\", \"_\", m1.t[,1]) \n",
    "m1.t <- cbind(m1.t, str_split(string = m1.t[,1], pattern = \"_\", simplify = TRUE))\n",
    "colnames(m1.t) <- c(\"SampleID\", \"Run\", \"SampleType\", \"CowN\", \"Day\", \"Month\", \"Year\")\n",
    "\n",
    "m1.t <- mutate_all(m1.t, as.character)\n",
    "\n",
    "m1.t$Month <- ifelse(nchar(m1.t$Month)==1, paste0(\"0\", m1.t$Month), m1.t$Month)\n",
    "\n",
    "m1.t$Day <- ifelse(nchar(m1.t$Day) == 1, paste0(\"0\", m1.t$Day), m1.t$Day)\n",
    "\n",
    "m1.t$Year <- ifelse(m1.t$Year == \"99\", paste0(\"19\", m1.t$Year), m1.t$Year)\n",
    "m1.t$Year <- ifelse(nchar(m1.t$Year) == 2, paste0(\"20\", m1.t$Year), m1.t$Year)\n",
    "m1.t$Year <- ifelse(nchar(m1.t$Year) == 1, paste0(\"200\", m1.t$Year), m1.t$Year)\n",
    "\n",
    "m1.t$CleanID <- paste(m1.t$Year, m1.t$Month, m1.t$Day, m1.t$CowN, sep = \"_\")\n",
    "\n",
    "m1.full <- full_join(m1.t, m1[!m1[,3] %in% \"Target\", ])\n",
    "m1.full[is.na(m1.full)] <- \"Controls\"\n"
   ]
  },
  {
   "cell_type": "code",
   "execution_count": 117,
   "metadata": {},
   "outputs": [
    {
     "name": "stderr",
     "output_type": "stream",
     "text": [
      "Joining, by = c(\"SampleID\", \"Run\", \"SampleType\")\n"
     ]
    }
   ],
   "source": [
    "#Clean and prepera metadata for Run 2\n",
    "#######################################\n",
    "\n",
    "m2 <- read.csv(\"data/metadata/Run2.csv\")\n",
    "m2 <- mutate_all(m2, as.character)\n",
    "m2[,1] <- sub(\" X\", \"\", m2[,1])\n",
    "\n",
    "m2.t <- m2[m2[,3] %in% \"Target\", ]\n",
    "m2.t <- cbind(m2.t, str_split(string = m2.t[,1], pattern = \"_\", simplify = TRUE))\n",
    "colnames(m2.t) <- c(\"SampleID\", \"Run\", \"SampleType\", \"Year\", \"Month\", \"Day\", \"CowN\")\n",
    "m2.t <- mutate_all(m2.t, as.character)\n",
    "m2.t$CleanID <- m2.t$SampleID\n",
    "\n",
    "m2.full <- full_join(m2.t, m2[!m2[,3] %in% \"Target\", ])\n",
    "m2.full[is.na(m2.full)] <- \"Controls\"\n"
   ]
  },
  {
   "cell_type": "code",
   "execution_count": 127,
   "metadata": {},
   "outputs": [],
   "source": [
    "#Clean and prepera metadata for Run 3\n",
    "#######################################\n",
    "\n",
    "m3 <- read.csv(\"data/metadata/Run3.csv\")\n",
    "\n",
    "m3[,1] <- sub(\" X\", \"\", m3[,1])\n",
    "\n",
    "m3.t <- mutate_all(m3, as.character)\n",
    "\n",
    "m3.t$WellID <- as.character(sub(\".*-\", \"\", m3.t$SampleID))\n",
    "\n",
    "\n",
    "### Read in and clean the metadata ###\n",
    "m3.new <- read.csv(\"data/metadata/meta_lars_new.csv\", header = FALSE, stringsAsFactors = FALSE)\n",
    "\n",
    "m3.new <- m3.new[2:nrow(m3.new), ]\n",
    "\n",
    "m3.new$V4 <- gsub(\"/\", \"-\", m3.new$V4)\n",
    "\n",
    "# Split data column and format day and month in to two digit format\n",
    "m3.new.date <- str_split(string = m3.new$V4, pattern = \"-\", simplify = TRUE)\n",
    "\n",
    "m3.new.date[,1] <- ifelse(nchar(m3.new.date[,1]) == 1, paste0(\"0\", m3.new.date[,1]), m3.new.date[,1]) \n",
    "\n",
    "m3.new.date[,2] <- ifelse(nchar(m3.new.date[,2]) == 1, paste0(\"0\", m3.new.date[,2]), m3.new.date[,1]) \n",
    "\n",
    "# Combine dataframes \n",
    "m3.new.full <- cbind(m3.new, m3.new.date)\n",
    "\n",
    "colnames(m3.new.full) <- paste0(\"Col_\", colnames(m3.new.full))\n",
    "\n",
    "m3.new.full$CleanIDNew <- paste(m3.new.full$Col_3, \n",
    "                                 m3.new.full$Col_2, \n",
    "                                 m3.new.full$Col_1, \n",
    "                                 m3.new.full$Col_V3, \n",
    "                                 sep=\"_\")\n",
    "\n",
    "m3.new.full <- m3.new.full[m3.new.full$Col_V1 %in% m3.t$WellID, ]\n",
    "\n",
    "# Combine illumina and Lars metadata\n",
    "####################################\n",
    "\n",
    "# Oreder metadata by Wells ID \n",
    "m3.t <- m3.t[order(m3.t$WellID), ]\n",
    "\n",
    "m3.new.full <- m3.new.full[order(m3.new.full$Col_V1), ]\n",
    "\n",
    "\n",
    "m3.full <- cbind(m3.t, m3.new.full)[,c(1, 2, 3, 7, 10, 11, 12, 13)]\n",
    "\n",
    "colnames(m3.full) <- c(\"SampleID\", \"Run\", \"SampleType\", \"CowN\", \"Day\", \"Month\", \"Year\", \"CleanID\")\n"
   ]
  },
  {
   "cell_type": "code",
   "execution_count": 119,
   "metadata": {},
   "outputs": [],
   "source": [
    "# Combine metadata from all 3 runs \n",
    "\n",
    "m.comb <- rbind(m1.full, m2.full, m3.full)\n",
    "\n",
    "m.comb.samp <- m.comb[!m.comb$CleanID %in% \"Controls\", ]\n",
    "\n",
    "m.comb.samp$CowN <- paste0(\"C\", m.comb.samp$CowN)"
   ]
  },
  {
   "cell_type": "code",
   "execution_count": 120,
   "metadata": {},
   "outputs": [],
   "source": [
    "# Read in shedding data \n",
    "# add columns for merging with rest of data\n",
    "######################\n",
    "\n",
    "m.shedding <- read.csv(\"output/1_shedding_analysis/shedding_data_long.csv\")\n",
    "\n",
    "m.shedding <- cbind(m.shedding, str_split(m.shedding$SDATE, pattern = \"_\", simplify = TRUE))[, -1]\n",
    "\n",
    "colnames(m.shedding) <- c(\"SDATE\", \"CowN_shed\", \"SheddingScore\", \"Year_shed\", \"Month_shed\", \"Day_shed\")"
   ]
  },
  {
   "cell_type": "code",
   "execution_count": 121,
   "metadata": {},
   "outputs": [],
   "source": [
    "# Due to discripancy in the date between \n",
    "# samples marking and shedding data we combine \n",
    "# metadata based on the closest day \n",
    "############################################\n",
    "\n",
    "# Set date of day zero\n",
    "startdate <- as.Date(\"08/02/1999\",\"%d/%m/%Y\")\n",
    "\n",
    "\n",
    "# Calculate number of days and add it as a column for shedding data\n",
    "###################################################################\n",
    "shedd.date <- ymd(paste(m.shedding$Year_shed, \n",
    "                    m.shedding$Month_shed, \n",
    "                    m.shedding$Day_shed, sep= \"/\"))\n",
    "\n",
    "m.shedding$AgeDays_shed <- as.numeric(as.character(difftime(time1 = shedd.date, \n",
    "                                                            startdate, \n",
    "                                                            units = \"days\")))\n",
    "\n",
    "# Age in month \n",
    "m.shedding$AgeMonth <- round(as.numeric(as.character(difftime(time1 = shedd.date, \n",
    "                                                              startdate, units = \"weeks\"))) / 4) + 1\n",
    "\n",
    "# Add diet type based on age\n",
    "m.shedding$Diet <- ifelse(m.shedding$AgeMonth == 1, \"Milk\", \"Solid\")\n",
    "\n",
    "# Calculate number of days and add it as a column for metadata\n",
    "##############################################################\n",
    "samp.day <- paste(m.comb.samp$Year, m.comb.samp$Month, m.comb.samp$Day)\n",
    "\n",
    "samp.day <- ymd(samp.day)\n",
    "\n",
    "m.comb.samp$AgeDays <- as.numeric(as.character(difftime(time1 = samp.day, \n",
    "                                                        startdate, units = \"days\")))"
   ]
  },
  {
   "cell_type": "code",
   "execution_count": 122,
   "metadata": {},
   "outputs": [],
   "source": [
    "# Find closest to metadata dates in shedding dates \n",
    "# Will be found based on age in days per cow \n",
    "\n",
    "m.shedding <- mutate_all(m.shedding, as.character)\n",
    "m.comb.samp <- mutate_all(m.comb.samp, as.character)\n",
    "empty.sub <- m.shedding[1,]\n",
    "empty.sub[1,] <- \"No_match\"\n",
    "\n",
    "# Every sample have to be checked \n",
    "nearest.match.d <- c()\n",
    "s.all <- c()\n",
    "for (s in 1:nrow(m.comb.samp)){\n",
    "    \n",
    "    # Subset shedding data leaving only samples from  animal in current alteration\n",
    "    shedd.sub <- m.shedding[m.shedding$CowN_shed %in% m.comb.samp$CowN[s], ]\n",
    "    \n",
    "    shedd.day <- as.numeric(as.character(shedd.sub$AgeDays_shed))\n",
    "    meta.day <- as.numeric(as.character(m.comb.samp$AgeDays[s]))\n",
    "    \n",
    "    # Find best matching day \n",
    "    sub.d.nearest <- shedd.sub[which.min(abs(shedd.day - meta.day)), ]\n",
    "    \n",
    "    if (nrow(sub.d.nearest) !=1) {\n",
    "        sub.d.nearest <- empty.sub\n",
    "    }\n",
    "    togather.d <- cbind(m.comb.samp[s, ], sub.d.nearest)\n",
    "    \n",
    "    nearest.match.d <- rbind(nearest.match.d, togather.d)\n",
    "    \n",
    "    s.all <- rbind(s.all, m.comb.samp[s, ])\n",
    "}"
   ]
  },
  {
   "cell_type": "code",
   "execution_count": 123,
   "metadata": {},
   "outputs": [
    {
     "name": "stderr",
     "output_type": "stream",
     "text": [
      "Joining, by = c(\"SampleID\", \"Run\", \"SampleType\", \"CowN\", \"Day\", \"Month\", \"Year\", \"CleanID\")\n"
     ]
    }
   ],
   "source": [
    "# Combine target and control samples \n",
    "# and write final metadata csv. \n",
    "\n",
    "meta.final <- full_join(nearest.match.d, m.comb[m.comb$CleanID %in% \"Controls\", ])\n",
    "\n",
    "meta.final$SampleID <- sub(\"neg_A12\", \"neg_57195-A12\", meta.final$SampleID)\n",
    "meta.final$SampleID <- sub(\"neg_H11\", \"neg_57195-H11\", meta.final$SampleID)\n",
    "\n",
    "meta.final[is.na(meta.final)] <- \"Controls\"\n",
    "\n",
    "meta.final <- meta.final[,c('SampleID', 'CowN_shed', \"SDATE\",  \n",
    "                            'Year_shed', 'Month_shed', 'Day_shed', \n",
    "                            'SheddingScore', \"AgeMonth\", \"Diet\")]\n",
    "\n",
    "colnames(meta.final) <- c('OriginalID', 'CowN', \"SDATE\",  'Year', \n",
    "                          'Month', 'Day', 'SheddingScore', \"AgeMonth\", \"Diet\")\n"
   ]
  },
  {
   "cell_type": "code",
   "execution_count": 124,
   "metadata": {},
   "outputs": [],
   "source": [
    "# Find and remove duplicates (manualy)\n",
    "meta.final$NewId <- paste(meta.final$CowN, meta.final$SDATE, sep=\"_\")\n",
    "\n",
    "meta.dup <- meta.final[meta.final$NewId %in% meta.final$NewId[duplicated(meta.final$NewId)], ]\n",
    "\n",
    "# Inspected manually \n",
    "# meta.dup[order(meta.dup$NewId), ]\n",
    "\n",
    "# Add a column - files to keep \n",
    "s.rem <- c(\"1359_14-5-01\", \"1360_19-5-03\")\n",
    "\n",
    "meta.final$FilesKeep <- ifelse(meta.final$CowN == \"Controls\", \"Remove\", \"Keep\")\n",
    "\n",
    "meta.final$FilesKeep[meta.final$OriginalID %in% s.rem] <- \"Remove\""
   ]
  },
  {
   "cell_type": "code",
   "execution_count": 125,
   "metadata": {},
   "outputs": [
    {
     "name": "stderr",
     "output_type": "stream",
     "text": [
      "Warning message in dir.create(\"data/Dada2_metadata\"):\n",
      "“'data/Dada2_metadata' already exists”"
     ]
    }
   ],
   "source": [
    "dir.create(\"data/Dada2_metadata\")\n",
    "write.csv(meta.final, \"data/metadata/samples_metadata.csv\")"
   ]
  }
 ],
 "metadata": {
  "kernelspec": {
   "display_name": "R",
   "language": "R",
   "name": "ir"
  },
  "language_info": {
   "codemirror_mode": "r",
   "file_extension": ".r",
   "mimetype": "text/x-r-source",
   "name": "R",
   "pygments_lexer": "r",
   "version": "3.6.1"
  }
 },
 "nbformat": 4,
 "nbformat_minor": 4
}
