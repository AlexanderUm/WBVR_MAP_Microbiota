{
 "cells": [
  {
   "cell_type": "markdown",
   "metadata": {},
   "source": [
    "#2020_04_24\n",
    "Plan for the day: \n",
    "1. Make a script that will create all nessasery files in the a project folder.\n",
    " - test if .gitignore works \n",
    "2. Transfer the files needed for the analysis \n",
    "3. Make sript for aligment of the files \n",
    "  - test how long it takes "
   ]
  },
  {
   "cell_type": "code",
   "execution_count": 23,
   "metadata": {},
   "outputs": [],
   "source": [
    "#This sript will create all nessesary folder for a tiypical R project. \n",
    "#Also script will create a file for github to ignor all files but scr folder \n",
    "#Prior runing the script set working directory (setwd()) to your R project folder. \n",
    "#The script will add only not extisting directories \n",
    "####################################################\n",
    "\n",
    "#1. Add directories \n",
    "l.dir <- c(\"scr\", \"data\", \"output\", \"resourses\", \n",
    "           \"scr/functions\", \n",
    "           \"data/raw\", \"data/metadata\", \n",
    "           \"output/plots\", \"output/objects\")\n",
    "\n",
    "for (d in l.dir) {\n",
    "    dir.create(d, showWarnings = FALSE)\n",
    "}\n",
    "\n",
    "#2. Add .gitignore file with. \n",
    "#   All folders but scr are ignored by defult \n",
    "fileConn<-file(\"gitignore.txt\")\n",
    "writeLines(c(\"data\", \"output\", \"resourses\", \n",
    "           \"data/raw\", \"data/metadata\", \n",
    "           \"output/plots\", \"output/objects\", \n",
    "            \".ipynb_checkpoints\"), fileConn)\n",
    "close(fileConn)\n",
    "\n",
    "file.rename(\"gitignore.txt\", \".gitignore\")"
   ]
  },
  {
   "cell_type": "code",
   "execution_count": 24,
   "metadata": {},
   "outputs": [
    {
     "data": {
      "text/html": [
       "TRUE"
      ],
      "text/latex": [
       "TRUE"
      ],
      "text/markdown": [
       "TRUE"
      ],
      "text/plain": [
       "[1] TRUE"
      ]
     },
     "metadata": {},
     "output_type": "display_data"
    }
   ],
   "source": []
  }
 ],
 "metadata": {
  "kernelspec": {
   "display_name": "R",
   "language": "R",
   "name": "ir"
  },
  "language_info": {
   "codemirror_mode": "r",
   "file_extension": ".r",
   "mimetype": "text/x-r-source",
   "name": "R",
   "pygments_lexer": "r",
   "version": "3.6.1"
  }
 },
 "nbformat": 4,
 "nbformat_minor": 4
}
