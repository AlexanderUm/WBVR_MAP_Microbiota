{
 "cells": [
  {
   "cell_type": "markdown",
   "metadata": {},
   "source": [
    "# 2020_04_24\n",
    "### Plan for the day: \n",
    "1. Make a script that will create all nessasery files in the a project folder.\n",
    " - test if .gitignore works \n",
    "2. Transfer the files needed for the analysis \n",
    "3. Make sript for aligment of the files \n",
    "  - test how long it takes "
   ]
  },
  {
   "cell_type": "markdown",
   "metadata": {},
   "source": [
    "### 1. Script that will create structure of the directories \n",
    "Complited: **yes**\n",
    "\n",
    "Working: **yes**\n",
    "\n",
    "Saved as a separate R file: **yes**"
   ]
  },
  {
   "cell_type": "code",
   "execution_count": 1,
   "metadata": {},
   "outputs": [
    {
     "data": {
      "text/html": [
       "TRUE"
      ],
      "text/latex": [
       "TRUE"
      ],
      "text/markdown": [
       "TRUE"
      ],
      "text/plain": [
       "[1] TRUE"
      ]
     },
     "metadata": {},
     "output_type": "display_data"
    }
   ],
   "source": [
    "#This sript will create all nessesary folder for a tiypical R project. \n",
    "#Also script will create a file for github to ignor all files but scr folder \n",
    "#Prior runing the script set working directory (setwd()) to your R project folder. \n",
    "#The script will add only not extisting directories \n",
    "####################################################\n",
    "\n",
    "#1. Add directories \n",
    "l.dir <- c(\"scr\", \"data\", \"output\", \"resourses\", \n",
    "           \"scr/functions\", \n",
    "           \"data/raw\", \"data/metadata\", \n",
    "           \"output/plots\", \"output/objects\")\n",
    "\n",
    "for (d in l.dir) {\n",
    "    dir.create(d, showWarnings = FALSE)\n",
    "}\n",
    "\n",
    "#2. Add .gitignore file with. \n",
    "#   All folders but scr are ignored by defult \n",
    "fileConn<-file(\"gitignore.txt\")\n",
    "writeLines(c(\"data\", \"output\", \"resourses\", \n",
    "           \"data/raw\", \"data/metadata\", \n",
    "           \"output/plots\", \"output/objects\", \n",
    "            \".ipynb_checkpoints\"), fileConn)\n",
    "close(fileConn)\n",
    "\n",
    "file.rename(\"gitignore.txt\", \".gitignore\")"
   ]
  },
  {
   "cell_type": "markdown",
   "metadata": {},
   "source": [
    "### 2. Script to make aligment of the sequneces from the first database and second \n",
    "Complited: \n",
    "\n",
    "Working: \n",
    "\n",
    "Saved as separate R file: "
   ]
  },
  {
   "cell_type": "markdown",
   "metadata": {},
   "source": [
    "#### 2.1 load.abs.install.pkg function\n",
    "Complited: **yes**\n",
    "\n",
    "Type: **Generlalized**\n",
    "\n",
    "Saved: **no**"
   ]
  },
  {
   "cell_type": "code",
   "execution_count": 1,
   "metadata": {
    "jupyter": {
     "source_hidden": true
    }
   },
   "outputs": [],
   "source": [
    "#The following function (load.abs.install.pkg) will load specified packages and install any missing form the list.\n",
    "#BiocManager is used for installation\n",
    "\n",
    "load.abs.install.pkg <- function(list.of.packages){\n",
    "    \n",
    "    if (!requireNamespace(\"BiocManager\", quietly = TRUE))    \n",
    "        install.packages(\"BiocManager\")\n",
    "    \n",
    "new.packages <- list.of.packages[!(list.of.packages %in% installed.packages()[,\"Package\"])]\n",
    "\n",
    "    if(length(new.packages)) BiocManager::install(new.packages)    \n",
    "    \n",
    "    lapply(list.of.packages, require, character.only = TRUE)\n",
    "}\n"
   ]
  },
  {
   "cell_type": "markdown",
   "metadata": {},
   "source": [
    "**Load required packages**"
   ]
  },
  {
   "cell_type": "code",
   "execution_count": 2,
   "metadata": {
    "collapsed": true,
    "jupyter": {
     "outputs_hidden": true
    }
   },
   "outputs": [
    {
     "name": "stderr",
     "output_type": "stream",
     "text": [
      "Loading required package: msa\n",
      "Loading required package: Biostrings\n",
      "Loading required package: BiocGenerics\n",
      "Loading required package: parallel\n",
      "\n",
      "Attaching package: ‘BiocGenerics’\n",
      "\n",
      "The following objects are masked from ‘package:parallel’:\n",
      "\n",
      "    clusterApply, clusterApplyLB, clusterCall, clusterEvalQ,\n",
      "    clusterExport, clusterMap, parApply, parCapply, parLapply,\n",
      "    parLapplyLB, parRapply, parSapply, parSapplyLB\n",
      "\n",
      "The following objects are masked from ‘package:stats’:\n",
      "\n",
      "    IQR, mad, sd, var, xtabs\n",
      "\n",
      "The following objects are masked from ‘package:base’:\n",
      "\n",
      "    anyDuplicated, append, as.data.frame, basename, cbind, colnames,\n",
      "    dirname, do.call, duplicated, eval, evalq, Filter, Find, get, grep,\n",
      "    grepl, intersect, is.unsorted, lapply, Map, mapply, match, mget,\n",
      "    order, paste, pmax, pmax.int, pmin, pmin.int, Position, rank,\n",
      "    rbind, Reduce, rownames, sapply, setdiff, sort, table, tapply,\n",
      "    union, unique, unsplit, which, which.max, which.min\n",
      "\n",
      "Loading required package: S4Vectors\n",
      "Loading required package: stats4\n",
      "\n",
      "Attaching package: ‘S4Vectors’\n",
      "\n",
      "The following object is masked from ‘package:base’:\n",
      "\n",
      "    expand.grid\n",
      "\n",
      "Loading required package: IRanges\n",
      "Loading required package: XVector\n",
      "\n",
      "Attaching package: ‘Biostrings’\n",
      "\n",
      "The following object is masked from ‘package:base’:\n",
      "\n",
      "    strsplit\n",
      "\n",
      "Loading required package: foreach\n",
      "Loading required package: doParallel\n",
      "Loading required package: iterators\n",
      "Loading required package: phyloseq\n",
      "\n",
      "Attaching package: ‘phyloseq’\n",
      "\n",
      "The following object is masked from ‘package:IRanges’:\n",
      "\n",
      "    distance\n",
      "\n",
      "Loading required package: tidyverse\n",
      "── Attaching packages ─────────────────────────────────────── tidyverse 1.3.0 ──\n",
      "✔ ggplot2 3.3.0     ✔ purrr   0.3.4\n",
      "✔ tibble  3.0.1     ✔ dplyr   0.8.5\n",
      "✔ tidyr   1.0.2     ✔ stringr 1.4.0\n",
      "✔ readr   1.3.1     ✔ forcats 0.4.0\n",
      "── Conflicts ────────────────────────────────────────── tidyverse_conflicts() ──\n",
      "✖ purrr::accumulate() masks foreach::accumulate()\n",
      "✖ dplyr::collapse()   masks Biostrings::collapse(), IRanges::collapse()\n",
      "✖ dplyr::combine()    masks BiocGenerics::combine()\n",
      "✖ purrr::compact()    masks XVector::compact()\n",
      "✖ dplyr::desc()       masks IRanges::desc()\n",
      "✖ tidyr::expand()     masks S4Vectors::expand()\n",
      "✖ dplyr::filter()     masks stats::filter()\n",
      "✖ dplyr::first()      masks S4Vectors::first()\n",
      "✖ dplyr::lag()        masks stats::lag()\n",
      "✖ ggplot2::Position() masks BiocGenerics::Position(), base::Position()\n",
      "✖ purrr::reduce()     masks IRanges::reduce()\n",
      "✖ dplyr::rename()     masks S4Vectors::rename()\n",
      "✖ dplyr::slice()      masks XVector::slice(), IRanges::slice()\n",
      "✖ purrr::when()       masks foreach::when()\n"
     ]
    },
    {
     "data": {
      "text/html": [
       "<ol>\n",
       "\t<li>TRUE</li>\n",
       "\t<li>TRUE</li>\n",
       "\t<li>TRUE</li>\n",
       "\t<li>TRUE</li>\n",
       "\t<li>TRUE</li>\n",
       "\t<li>TRUE</li>\n",
       "\t<li>TRUE</li>\n",
       "</ol>\n"
      ],
      "text/latex": [
       "\\begin{enumerate}\n",
       "\\item TRUE\n",
       "\\item TRUE\n",
       "\\item TRUE\n",
       "\\item TRUE\n",
       "\\item TRUE\n",
       "\\item TRUE\n",
       "\\item TRUE\n",
       "\\end{enumerate}\n"
      ],
      "text/markdown": [
       "1. TRUE\n",
       "2. TRUE\n",
       "3. TRUE\n",
       "4. TRUE\n",
       "5. TRUE\n",
       "6. TRUE\n",
       "7. TRUE\n",
       "\n",
       "\n"
      ],
      "text/plain": [
       "[[1]]\n",
       "[1] TRUE\n",
       "\n",
       "[[2]]\n",
       "[1] TRUE\n",
       "\n",
       "[[3]]\n",
       "[1] TRUE\n",
       "\n",
       "[[4]]\n",
       "[1] TRUE\n",
       "\n",
       "[[5]]\n",
       "[1] TRUE\n",
       "\n",
       "[[6]]\n",
       "[1] TRUE\n",
       "\n",
       "[[7]]\n",
       "[1] TRUE\n"
      ]
     },
     "metadata": {},
     "output_type": "display_data"
    }
   ],
   "source": [
    "#load (install if missing) libararies using defined above function load.abs.install.pkg\n",
    "# foreach and doParallel for parrallel computing \n",
    "# msa for alignment \n",
    "load.abs.install.pkg(c(\"msa\", \"foreach\", \"doParallel\", \"phyloseq\", \"parallel\", \"tidyverse\", \"Biostrings\"))"
   ]
  },
  {
   "cell_type": "markdown",
   "metadata": {},
   "source": [
    "**Load data**\n",
    "\n",
    "The data will be used from privious runs. It will be copied manually into resourses folder. \n",
    "\n",
    "Phyloseq objects will be used as input "
   ]
  },
  {
   "cell_type": "code",
   "execution_count": 3,
   "metadata": {},
   "outputs": [],
   "source": [
    "# Read in phyloseq from the first run (filtered)\n",
    "psI.1.1 <- readRDS(\"resourses/ps1.1.rds\")\n",
    "\n",
    "#Read in phyloseq from the second run (unfiltered)\n",
    "psII.0 <- readRDS(\"resourses/phyloseq0.rds\")"
   ]
  },
  {
   "cell_type": "markdown",
   "metadata": {},
   "source": [
    "**Extract seqnces from phyloseques**\n",
    "- sequences from psI will be use as refferece"
   ]
  },
  {
   "cell_type": "code",
   "execution_count": 4,
   "metadata": {},
   "outputs": [],
   "source": [
    "ps.I.tax <- psI.1.1@tax_table@.Data\n",
    "\n",
    "seq.I <- rownames(ps.I.tax)\n",
    "\n",
    "seq.II.all <- colnames(psII.0@otu_table@.Data)"
   ]
  },
  {
   "cell_type": "markdown",
   "metadata": {},
   "source": [
    "\n",
    "\n",
    "### Align sequences \n",
    "\n",
    "Sequences from the second sequencesing run will be align against sequences from the first sequencing run that were used to build an rf model. "
   ]
  },
  {
   "cell_type": "markdown",
   "metadata": {},
   "source": [
    "#### 2.1 paired.aling function\n",
    "\n",
    "Complited: **no**\n",
    "\n",
    "Type: **project_specific**\n",
    "\n",
    "Dependeses: **yes** *Biostrings, foreach, doParallel*\n",
    "\n",
    "Saved: **no**"
   ]
  },
  {
   "cell_type": "code",
   "execution_count": null,
   "metadata": {},
   "outputs": [],
   "source": [
    "aling.against.list <- function(ref.seq.list, target.seq, subsMatrix) {\n",
    "    score.m <- c()\n",
    "    best.match.score = -10^6\n",
    "    best.match.n = 0\n",
    "    for (seqA in 1:length(ref.seq.list)) {\n",
    "        align.s <- pairwiseAlignment(ref.seq.list[seqA], target.seq, substitutionMatrix = subsMatrix, \n",
    "                               gapOpening = - 1, gapExtension = - 1 , scoreOnly = TRUE)\n",
    "        if (best.match.score < align.s) {\n",
    "            best.match.score <- align.s\n",
    "            best.match.n <- seqA}\n",
    "        }\n",
    "    best.match <- c(target.seq, ref.seq.list[best.match.n], best.match.n, best.match.score)\n",
    "    names(best.match) <- c(\"TargetSeq\", \"BestMatchedRefSeq\", \"BestMatchedRefSeqNumber\", \"Score\")\n",
    "    return(best.match)\n",
    "    }"
   ]
  },
  {
   "cell_type": "code",
   "execution_count": 68,
   "metadata": {},
   "outputs": [],
   "source": [
    "# Make sabstitution matrix for pairwiseAlignment\n",
    "sub.mat<- nucleotideSubstitutionMatrix(match = 0, mismatch = 1, baseOnly = TRUE)"
   ]
  },
  {
   "cell_type": "markdown",
   "metadata": {},
   "source": [
    "##### Execution of function above in parallel using foreach "
   ]
  },
  {
   "cell_type": "code",
   "execution_count": 88,
   "metadata": {},
   "outputs": [],
   "source": [
    "#Register the clustor \n",
    "cl <- makeCluster(48)\n",
    "registerDoParallel(cl)"
   ]
  },
  {
   "cell_type": "code",
   "execution_count": 89,
   "metadata": {},
   "outputs": [
    {
     "data": {
      "text/plain": [
       "Time difference of 47.85176 mins"
      ]
     },
     "metadata": {},
     "output_type": "display_data"
    }
   ],
   "source": [
    "#foreach loop\n",
    "ts3 <- Sys.time()\n",
    "best.hit.m <- foreach (i=1:length(seq.II.all), \n",
    "                       .combine=\"rbind\", \n",
    "                       .packages = \"Biostrings\") %dopar% {aling.against.list(ref.seq.list = seq.I, \n",
    "                                                                             target.seq = seq.II.all[i], \n",
    "                                                                             subsMatrix = sab.mat)}\n",
    "te3 <- Sys.time()\n",
    "te3 - ts3"
   ]
  },
  {
   "cell_type": "code",
   "execution_count": 90,
   "metadata": {},
   "outputs": [],
   "source": [
    "stopCluster(cl)"
   ]
  },
  {
   "cell_type": "code",
   "execution_count": 94,
   "metadata": {},
   "outputs": [],
   "source": [
    "#Convert to dataframe and save \n",
    "best.hit.m <- data.frame(test80each)\n",
    "write_csv(best.hit.m, \"output/objects/best_hit_m.csv\")"
   ]
  },
  {
   "cell_type": "markdown",
   "metadata": {},
   "source": [
    "##### Visualisation of differences \n"
   ]
  },
  {
   "cell_type": "code",
   "execution_count": 102,
   "metadata": {},
   "outputs": [],
   "source": [
    "best.hit.m$Score <- as.numeric(as.character(best.hit.m$Score))\n",
    "hist.score <- ggplot(best.hit.m, aes(x=Score)) + \n",
    "                    geom_histogram(binwidth=0.5) + \n",
    "                    theme_bw()\n",
    "ggsave(hist.score, filename = \"output/plots/histogram_score.pdf\", width = 6.5, height = 3)\n",
    "ggsave(hist.score, filename = \"output/plots/histogram_score.png\", dpi=300, width = 6.5, height = 3)"
   ]
  },
  {
   "cell_type": "markdown",
   "metadata": {},
   "source": [
    "##### Add taxonomic information for sequences "
   ]
  },
  {
   "cell_type": "code",
   "execution_count": 126,
   "metadata": {},
   "outputs": [],
   "source": [
    "#prepare taxonomic data \n",
    "ps.I.tax[is.na(ps.I.tax)] <- \"Unknown\"\n",
    "ps.II.tax <- psII.0@tax_table@.Data\n",
    "ps.II.tax[is.na(ps.II.tax)] <- \"Unknown\""
   ]
  },
  {
   "cell_type": "code",
   "execution_count": 127,
   "metadata": {},
   "outputs": [],
   "source": [
    "tax.ref <- c(\"Sequence\", \"Taxonomy\")\n",
    "for (i in best.hit.m$BestMatchedRefSeq) {\n",
    "     tax.ref <- rbind(tax.ref, c(i, paste(ps.I.tax[rownames(ps.I.tax) %in% i, ], collapse=\"__\")))\n",
    "}"
   ]
  },
  {
   "cell_type": "code",
   "execution_count": 129,
   "metadata": {},
   "outputs": [],
   "source": [
    "tax.target <- c(\"Sequence\", \"Taxonomy\")\n",
    "for(i in best.hit.m$TargetSeq) {\n",
    "    tax.target <- rbind(tax.target, c(i, paste(ps.II.tax[rownames(ps.II.tax) %in% i, ], collapse=\"__\")))\n",
    "}"
   ]
  }
 ],
 "metadata": {
  "kernelspec": {
   "display_name": "R",
   "language": "R",
   "name": "ir"
  },
  "language_info": {
   "codemirror_mode": "r",
   "file_extension": ".r",
   "mimetype": "text/x-r-source",
   "name": "R",
   "pygments_lexer": "r",
   "version": "3.6.1"
  }
 },
 "nbformat": 4,
 "nbformat_minor": 4
}
