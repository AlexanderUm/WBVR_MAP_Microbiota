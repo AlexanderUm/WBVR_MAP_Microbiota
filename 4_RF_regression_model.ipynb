{
 "cells": [
  {
   "cell_type": "code",
   "execution_count": null,
   "metadata": {},
   "outputs": [],
   "source": [
    "##############################################################\n",
    "# Prediction of shedding scores using random forest regression \n",
    "##############################################################"
   ]
  },
  {
   "cell_type": "code",
   "execution_count": 2,
   "metadata": {},
   "outputs": [
    {
     "data": {
      "text/html": [
       "<ol>\n",
       "\t<li>TRUE</li>\n",
       "\t<li>TRUE</li>\n",
       "\t<li>TRUE</li>\n",
       "\t<li>TRUE</li>\n",
       "\t<li>TRUE</li>\n",
       "</ol>\n"
      ],
      "text/latex": [
       "\\begin{enumerate}\n",
       "\\item TRUE\n",
       "\\item TRUE\n",
       "\\item TRUE\n",
       "\\item TRUE\n",
       "\\item TRUE\n",
       "\\end{enumerate}\n"
      ],
      "text/markdown": [
       "1. TRUE\n",
       "2. TRUE\n",
       "3. TRUE\n",
       "4. TRUE\n",
       "5. TRUE\n",
       "\n",
       "\n"
      ],
      "text/plain": [
       "[[1]]\n",
       "[1] TRUE\n",
       "\n",
       "[[2]]\n",
       "[1] TRUE\n",
       "\n",
       "[[3]]\n",
       "[1] TRUE\n",
       "\n",
       "[[4]]\n",
       "[1] TRUE\n",
       "\n",
       "[[5]]\n",
       "[1] TRUE\n"
      ]
     },
     "metadata": {},
     "output_type": "display_data"
    },
    {
     "name": "stderr",
     "output_type": "stream",
     "text": [
      "Warning message in dir.create(\"output/4_RF_regression_model\"):\n",
      "“'output/4_RF_regression_model' already exists”"
     ]
    }
   ],
   "source": [
    "\n",
    "# Set seed \n",
    "set.seed(4957936)\n",
    "\n",
    "# Load required libraries \n",
    "source(\"scr/functions/general/load_abs_install_pkg.R\")\n",
    "\n",
    "load_abs_install_pkg(c(\"phyloseq\", \"tidyverse\", \"foreach\", \"doParallel\", \"randomForest\"))\n",
    "\n",
    "# Create output directory \n",
    "dir.create(\"output/4_RF_regression_model\")"
   ]
  },
  {
   "cell_type": "code",
   "execution_count": 3,
   "metadata": {},
   "outputs": [],
   "source": [
    "# 1. Extract and format data for the RF regression\n",
    "##################################################\n",
    "\n",
    "# Read in filtered and normalized phyloseq object\n",
    "ps.tf.css.01 <- readRDS(\"output/3_filt_norm_phyl/ps_tf2_css.RDS\")\n",
    "\n",
    "# Load custom function to format data from phyloseq for RF analysis \n",
    "source(\"scr/functions/data_for_rf.R\")\n",
    "\n",
    "# Format data for RF regression analysis \n",
    "rf.data.css.01 <- data_for_rf(phyloseq = ps.tf.css.01, \n",
    "                              class.column = 'WeightedScoreII', \n",
    "                              remove.taxa.prev.less.than = 1, \n",
    "                              return.df = TRUE)\n",
    "\n",
    "# Convert the WeightedScoreII column into numeric \n",
    "rf.data.css.01$WeightedScoreII <- as.numeric(as.character(rf.data.css.01$WeightedScoreII))\n"
   ]
  },
  {
   "cell_type": "code",
   "execution_count": 5,
   "metadata": {},
   "outputs": [
    {
     "data": {
      "text/html": [
       "<strong>png:</strong> 2"
      ],
      "text/latex": [
       "\\textbf{png:} 2"
      ],
      "text/markdown": [
       "**png:** 2"
      ],
      "text/plain": [
       "png \n",
       "  2 "
      ]
     },
     "metadata": {},
     "output_type": "display_data"
    }
   ],
   "source": [
    "\n",
    "# 2. Find the optimal number of trees necessary for the model\n",
    "#############################################################\n",
    "\n",
    "# Make an RF regression model \n",
    "RF.tree <- randomForest(WeightedScoreII ~ . , \n",
    "                           data = rf.data.css.01, \n",
    "                           ntree = 15001)\n",
    "\n",
    "# Visualize and save error rate in response to the number of used trees \n",
    "pdf(\"output/4_RF_regression_model/Figure_S4A.pdf\")\n",
    "plot(RF.tree)\n",
    "dev.off()"
   ]
  },
  {
   "cell_type": "code",
   "execution_count": 6,
   "metadata": {},
   "outputs": [
    {
     "name": "stderr",
     "output_type": "stream",
     "text": [
      "Saving 6.67 x 6.67 in image\n"
     ]
    }
   ],
   "source": [
    "\n",
    "# 3. Mtry parameter tuning \n",
    "###########################\n",
    "\n",
    "# Load custom function for Mtry tuning and visualization \n",
    "source(\"scr/functions/Tree_Mtry_Plot.R\")\n",
    "\n",
    "# Make a computing cluster (number of cores)\n",
    "cl <- makeCluster(10)\n",
    "\n",
    "# Register the cluster \n",
    "registerDoParallel(cl)\n",
    "\n",
    "# Visualize Mtry tunning attempts \n",
    "tree.mtry.plot.all <- Tree_Mtry_Plot(data = rf.data.css.01, \n",
    "                                     ntrees = 7501,\n",
    "                                     start_val = ncol(rf.data.css.01/3), \n",
    "                                     stepF = 0.5, \n",
    "                                     class_colum = \"WeightedScoreII\", \n",
    "                                     ntimes = 3)\n",
    "\n",
    "# Stop the computing cluster \n",
    "stopCluster(cl)\n",
    "\n",
    "# Save the plot \n",
    "ggsave(plot = tree.mtry.plot.all, filename = \"output/4_RF_regression_model/Figure_S4B.pdf\")"
   ]
  },
  {
   "cell_type": "code",
   "execution_count": 7,
   "metadata": {},
   "outputs": [],
   "source": [
    "\n",
    "# 4. Prediction of Shedding values could be regression mode of RF\n",
    "#################################################################\n",
    "\n",
    "# Load the function for creating matrices with randomly drawn not overlapping samples \n",
    "source(\"scr/functions/rand_draw_mat.R\")\n",
    "\n",
    "# Load the custom function for building RF models without a set of samples \n",
    "#           and consequently predict their values\n",
    "source(\"scr/functions/rf_and_test.R\")\n",
    "\n",
    "# Make a computing cluster (number of cores)\n",
    "cl <- makeCluster(10)\n",
    "\n",
    "# Register the cluster \n",
    "registerDoParallel(cl)\n",
    "\n",
    "# Create an empty list \n",
    "rf.reg.res <- list()\n",
    "\n",
    "# Draw consequntly samples randomly substructed from from the datased\n",
    "#      and predict their values. Samples will be drawn in five separate runs. \n",
    "for (i in 1:5) {\n",
    "\n",
    "    # Create the matrix with randomly drawn not overlapping samples (10 samples per draw)\n",
    "    rand.samp.reg <- rand_draw_mat(Samples_list = rownames(rf.data.css.01), Number_of_samp = 10)\n",
    "    \n",
    "    # Build an RF model without the randomly drawn set of samples and consequently predict their values. \n",
    "    res.for <- foreach(i=1:nrow(rand.samp.reg),.packages = \"randomForest\") %dopar% {\n",
    "                rf_and_test(rf_data = rf.data.css.01, \n",
    "                samples_to_test = rand.samp.reg[i,], \n",
    "                n_samples_training = 230, \n",
    "                mtry = ncol(rf.data.css.01/3), \n",
    "                ntree = 7501, \n",
    "                variable_column = \"WeightedScoreII\", \n",
    "                regression_TorF = TRUE)}\n",
    "\n",
    "    # Combine results \n",
    "    rf.reg.res[[i]] <- unlist(res.for) }\n",
    "\n",
    "# Stop the computing cluster \n",
    "stopCluster(cl)\n",
    "\n",
    "# Save the object \n",
    "save(rf.reg.res, file = \"output/4_RF_regression_model/samples_reg_out.Rdata\")"
   ]
  },
  {
   "cell_type": "code",
   "execution_count": 28,
   "metadata": {},
   "outputs": [],
   "source": [
    "\n",
    "# 5. Extract and optimize data for visualization \n",
    "################################################\n",
    "\n",
    "# Extract a part of metadata\n",
    "p.reg.meta <- data.frame(ps.tf.css.01@sam_data[, c(\"CowN\", \"WeightedScoreII\", \"AgeMonth\")])\n",
    "\n",
    "# Adjust row names \n",
    "p.reg.meta$ID <- rownames(p.reg.meta)\n",
    "\n",
    "# Create an empty dataframe for formatted data \n",
    "reg.pd <- data.frame()\n",
    "\n",
    "# Extract data from the list and add metadata (loop)\n",
    "# i is a list object number \n",
    "for(i in 1:length(rf.reg.res)) {\n",
    "    \n",
    "    # Extract individual object \n",
    "    reg.r <- data.frame(rf.reg.res[[i]])\n",
    "    \n",
    "    # Add an ID column containing rownames \n",
    "    reg.r$ID <- rownames(reg.r)\n",
    "    \n",
    "    # Add metadata and bind into a long dataframe \n",
    "    reg.pd <- rbind(reg.pd, left_join(reg.r, p.reg.meta, by=\"ID\"))\n",
    "    }\n",
    "\n",
    "# Prepare data for the barchart (first layer) by \n",
    "#         leaving one row per cow \n",
    "reg.pd.bar <- reg.pd[!duplicated(reg.pd$CowN), ]\n",
    "\n",
    "# Create vector with ordered Cow ID\n",
    "ord.id <- reg.pd.bar$CowN[order(as.numeric(sub(\",\", \".\", as.character(reg.pd.bar$WeightedScoreII))))]\n",
    "\n",
    "# Arrange levels order for Cow ID \n",
    "reg.pd$CowN <- factor(reg.pd$CowN, levels = ord.id)\n",
    "\n",
    "# Find mean value of predicted shedding scores per animal \n",
    "reg.pd.mean <- data.frame(aggregate(reg.pd$rf.reg.res..i.., list(reg.pd$CowN), mean))\n",
    "\n",
    "# Adjust columns names \n",
    "colnames(reg.pd.mean) <- c(\"CowN\", \"PredV\")"
   ]
  },
  {
   "cell_type": "code",
   "execution_count": 29,
   "metadata": {},
   "outputs": [],
   "source": [
    "\n",
    "# 6. Visualize results of RF regression model prediction\n",
    "########################################################\n",
    "\n",
    "# Plot the results \n",
    "pred.val.plot <- ggplot() + \n",
    "    geom_bar(data = reg.pd[!duplicated(reg.pd$CowN), ], \n",
    "             aes(x = CowN, y = WeightedScoreII), \n",
    "             fill =\"grey60\", stat = \"identity\") + \n",
    "    geom_jitter(data = reg.pd, \n",
    "                aes(x = CowN, y = rf.reg.res..i.., color=AgeMonth), \n",
    "                width = 0.2) + \n",
    "    geom_smooth(data = reg.pd, \n",
    "                aes(x = as.numeric(CowN), y = rf.reg.res..i..), \n",
    "                method = \"loess\") + \n",
    "    theme_bw() + \n",
    "    theme(axis.text.x = element_text(angle = 90, hjust = 0.5)) + \n",
    "    ylab(\"Weighted Score\") + \n",
    "    xlab(\"Cow ID\")\n",
    "\n",
    "# Save plots\n",
    "ggsave(filename = \"output/4_RF_regression_model/Figure_S5.pdf\", pred.val.plot, width = 7, height = 4)\n",
    "ggsave(filename = \"output/4_RF_regression_model/Figure_S5.png\", pred.val.plot, width = 7, height = 4, dpi=400)"
   ]
  },
  {
   "cell_type": "code",
   "execution_count": 30,
   "metadata": {},
   "outputs": [],
   "source": [
    "\n",
    "# 7. Summary of the RF regression results \n",
    "#########################################\n",
    "\n",
    "# Summarize differences between predicted and actual value \n",
    "predv.dif.summ <- summary(abs(reg.pd$rf.reg.res..i.. - reg.pd$WeightedScoreII))\n",
    "\n",
    "# Format the summary table \n",
    "predv.dif.summ <- as.data.frame(cbind(names(predv.dif.summ), \n",
    "                                      as.vector(predv.dif.summ)))\n",
    "\n",
    "# Write summary table into file \n",
    "write.csv(predv.dif.summ, \"output/4_RF_regression_model/predv_dif_summ.csv\")\n"
   ]
  },
  {
   "cell_type": "code",
   "execution_count": 41,
   "metadata": {},
   "outputs": [],
   "source": [
    "\n",
    "# 8. Correlation analysis between predicted and actual shedding values\n",
    "######################################################################\n",
    "\n",
    "# Prepare data for correlation analysis \n",
    "# Combine mean predicted values dataframe and data frame contained actual values \n",
    "cor.d <- inner_join(reg.pd.mean, reg.pd, by = \"CowN\")\n",
    "\n",
    "# Remove rows with not unique cows names \n",
    "cor.d1 <- cor.d[!duplicated(cor.d$CowN), ]\n",
    "\n",
    "# Correlation test between predicted and actual values.  \n",
    "c.pred.score <- cor.test(cor.d1$PredV, cor.d1$WeightedScoreII)\n",
    "\n",
    "# Correlation between differences in predicted and actual values and animals age.\n",
    "c.sdiv.age <- cor.test(reg.pd$rf.reg.res..i.. - reg.pd$WeightedScoreII, reg.pd$AgeMonth)\n",
    "\n",
    "# Correlation between differences in predicted and actual values and individual cows.\n",
    "c.sdiv.cow <- cor.test(reg.pd$rf.reg.res..i.. - reg.pd$WeightedScoreII, as.numeric(reg.pd$CowN))\n",
    "\n",
    "# Combine results of correlation analysis into a single dataframe.\n",
    "all.cor <- rbind(c(c.pred.score$conf.int, c.pred.score$estimate, c.pred.score$p.value),\n",
    "                    c(c.sdiv.age$conf.int, c.sdiv.age$estimate, c.sdiv.age$p.value),\n",
    "                    c(c.sdiv.cow$conf.int, c.sdiv.cow$estimate, c.sdiv.cow$p.value))\n",
    "\n",
    "# Adjust columns names in the combined table. \n",
    "colnames(all.cor) <- c(\"ci_low\", \"ci_high\", \"r(cor)\", \"p_val\")\n",
    "\n",
    "rownames(all.cor) <- c(\"Predicte & Real\", \"Age & Difference in values\", \"Cow ID & Difference in values\")\n",
    "\n",
    "# Write the combined table into a file. \n",
    "write.table(as.data.frame(all.cor), \"output/4_RF_regression_model/correlations.txt\")"
   ]
  }
 ],
 "metadata": {
  "kernelspec": {
   "display_name": "R",
   "language": "R",
   "name": "ir"
  },
  "language_info": {
   "codemirror_mode": "r",
   "file_extension": ".r",
   "mimetype": "text/x-r-source",
   "name": "R",
   "pygments_lexer": "r",
   "version": "3.6.1"
  }
 },
 "nbformat": 4,
 "nbformat_minor": 4
}
