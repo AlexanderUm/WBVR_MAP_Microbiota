{
 "cells": [
  {
   "cell_type": "code",
   "execution_count": null,
   "metadata": {},
   "outputs": [],
   "source": [
    "##################################################\n",
    "# Analysis and visualisation of shedding patterns \n",
    "##################################################\n"
   ]
  },
  {
   "cell_type": "code",
   "execution_count": 1,
   "metadata": {},
   "outputs": [
    {
     "name": "stderr",
     "output_type": "stream",
     "text": [
      "Loading required package: phyloseq\n",
      "Loading required package: tidyverse\n",
      "── Attaching packages ─────────────────────────────────────── tidyverse 1.3.0 ──\n",
      "✔ ggplot2 3.3.0     ✔ purrr   0.3.4\n",
      "✔ tibble  3.0.1     ✔ dplyr   0.8.5\n",
      "✔ tidyr   1.0.2     ✔ stringr 1.4.0\n",
      "✔ readr   1.3.1     ✔ forcats 0.4.0\n",
      "── Conflicts ────────────────────────────────────────── tidyverse_conflicts() ──\n",
      "✖ dplyr::filter() masks stats::filter()\n",
      "✖ dplyr::lag()    masks stats::lag()\n",
      "Loading required package: cowplot\n",
      "\n",
      "********************************************************\n",
      "Note: As of version 1.0.0, cowplot does not change the\n",
      "  default ggplot2 theme anymore. To recover the previous\n",
      "  behavior, execute:\n",
      "  theme_set(theme_cowplot())\n",
      "********************************************************\n",
      "\n",
      "Loading required package: plyr\n",
      "------------------------------------------------------------------------------\n",
      "You have loaded plyr after dplyr - this is likely to cause problems.\n",
      "If you need functions from both plyr and dplyr, please load plyr first, then dplyr:\n",
      "library(plyr); library(dplyr)\n",
      "------------------------------------------------------------------------------\n",
      "\n",
      "Attaching package: ‘plyr’\n",
      "\n",
      "The following objects are masked from ‘package:dplyr’:\n",
      "\n",
      "    arrange, count, desc, failwith, id, mutate, rename, summarise,\n",
      "    summarize\n",
      "\n",
      "The following object is masked from ‘package:purrr’:\n",
      "\n",
      "    compact\n",
      "\n"
     ]
    },
    {
     "data": {
      "text/html": [
       "<ol>\n",
       "\t<li>TRUE</li>\n",
       "\t<li>TRUE</li>\n",
       "\t<li>TRUE</li>\n",
       "\t<li>TRUE</li>\n",
       "</ol>\n"
      ],
      "text/latex": [
       "\\begin{enumerate}\n",
       "\\item TRUE\n",
       "\\item TRUE\n",
       "\\item TRUE\n",
       "\\item TRUE\n",
       "\\end{enumerate}\n"
      ],
      "text/markdown": [
       "1. TRUE\n",
       "2. TRUE\n",
       "3. TRUE\n",
       "4. TRUE\n",
       "\n",
       "\n"
      ],
      "text/plain": [
       "[[1]]\n",
       "[1] TRUE\n",
       "\n",
       "[[2]]\n",
       "[1] TRUE\n",
       "\n",
       "[[3]]\n",
       "[1] TRUE\n",
       "\n",
       "[[4]]\n",
       "[1] TRUE\n"
      ]
     },
     "metadata": {},
     "output_type": "display_data"
    },
    {
     "name": "stderr",
     "output_type": "stream",
     "text": [
      "Warning message in dir.create(\"output/1_shedding_analysis\"):\n",
      "“'output/1_shedding_analysis' already exists”"
     ]
    }
   ],
   "source": [
    "# Set enviornment\n",
    "#################\n",
    "\n",
    "set.seed(3432)\n",
    "\n",
    "source(\"scr/functions/general/load_abs_install_pkg.R\")\n",
    "\n",
    "load_abs_install_pkg(c(\"phyloseq\", \"tidyverse\", \"cowplot\", \"plyr\"))\n",
    "\n",
    "dir.create(\"output/1_shedding_analysis\")"
   ]
  },
  {
   "cell_type": "code",
   "execution_count": 2,
   "metadata": {},
   "outputs": [],
   "source": [
    "# Read and format shedding data for analysis\n",
    "############################################\n",
    "\n",
    "shed.data <- read.csv(\"data/shedding_data.csv\", \n",
    "                      stringsAsFactors = FALSE, \n",
    "                      na.strings=c(\"\",\"NA\"))\n",
    "\n",
    "colnames(shed.data) <- sub(\"X\", \"C\", colnames(shed.data))\n",
    "\n",
    "shed.data$SDATE <- gsub(\"-\", \"_\", shed.data$SDATE)"
   ]
  },
  {
   "cell_type": "code",
   "execution_count": 3,
   "metadata": {},
   "outputs": [],
   "source": [
    "# Melt data to the long format \n",
    "shed.data.l <- gather(shed.data, CowID, Score, C1348:C1367)\n",
    "\n",
    "# Remove data points without shedding values\n",
    "shed.data.l <- shed.data.l[shed.data.l$Score %in% c(\"0\", \"+\", \"++\", \"+++\"), ]\n",
    "\n",
    "# Save formated and trimed data\n",
    "write.csv(shed.data.l, \"output/1_shedding_analysis/shedding_data_long.csv\")\n",
    "\n",
    "# Calculate shedding scores\n",
    "###########################\n",
    "\n",
    "# Convert shedding score to numeric values\n",
    "shed.data.l$ScoreNum <- as.numeric(as.character(mapvalues(shed.data.l$Score, \n",
    "                                                          c(\"0\", \"+\", \"++\", \"+++\"), \n",
    "                                                          c(0, 1, 2, 3))))\n",
    "\n",
    "# Calculate cumulative shedding score per animal\n",
    "samp.score <- aggregate(shed.data.l$ScoreNum, \n",
    "                        by=list(Category=shed.data.l$CowID), FUN=sum)\n",
    "\n",
    "\n",
    "# Calculate weighted shedding scores\n",
    "w.score <- round(samp.score[,\"x\"]/table(shed.data.l$CowID), 2)\n",
    "\n"
   ]
  },
  {
   "cell_type": "code",
   "execution_count": 4,
   "metadata": {},
   "outputs": [],
   "source": [
    "# Calculate weighted shedding score for the first 43 time point \n",
    "retain.points <- shed.data$SDATE[1:43]\n",
    "\n",
    "shed.data.l2 <- shed.data.l[shed.data.l$SDATE %in% retain.points, ]\n",
    "\n",
    "samp.score2 <- aggregate(shed.data.l2$ScoreNum, \n",
    "                        by=list(Category=shed.data.l2$CowID), FUN=sum)\n",
    "\n",
    "w.score2 <- round(samp.score2[,\"x\"]/table(shed.data.l2$CowID), 2)\n"
   ]
  },
  {
   "cell_type": "code",
   "execution_count": 5,
   "metadata": {},
   "outputs": [],
   "source": [
    "# Combine information about shedding and save it \n",
    "all.scores <- cbind(samp.score, as.vector(w.score), as.vector(w.score2))\n",
    "\n",
    "colnames(all.scores) <- c(\"CowN\", \"CumulativeScore\", \"WeightedScoreI\", \"WeightedScoreII\")\n",
    "\n",
    "write.csv(all.scores, \"output/1_shedding_analysis/shedding_scores.csv\")\n"
   ]
  },
  {
   "cell_type": "code",
   "execution_count": 6,
   "metadata": {},
   "outputs": [
    {
     "name": "stderr",
     "output_type": "stream",
     "text": [
      "Warning message:\n",
      "“Column `CowN` joining factor and character vector, coercing into character vector”"
     ]
    }
   ],
   "source": [
    "# Add information about shedding to general metadata\n",
    "s.meta <- read.csv(\"data/metadata/samples_metadata_f.csv\")\n",
    "\n",
    "s.meta.comb <- left_join(s.meta, all.scores, by=\"CowN\")\n",
    "\n",
    "write.csv(s.meta.comb[,-1], \"output/1_shedding_analysis/metadata_f.csv\")\n"
   ]
  },
  {
   "cell_type": "code",
   "execution_count": 7,
   "metadata": {},
   "outputs": [],
   "source": [
    "# Correlation w.score and w.score2 \n",
    "###################################\n",
    "\n",
    "# Select only cows that survive till the end of experiment  \n",
    "long.lived.animals <- c(\"C1349\", \"C1350\", \"C1351\", \"C1355\", \"C1356\", \"C1357\", \n",
    "                        \"C1359\", \"C1360\", \"C1362\", \"C1363\", \"C1364\", \"C1367\")\n",
    "\n",
    "# Crrelation analysis\n",
    "corr.w.score <- cor.test(w.score2[long.lived.animals], \n",
    "                round(w.score[long.lived.animals], 2), \n",
    "                method = \"pearson\") \n",
    "\n",
    "corr.w.score.out <- c(corr.w.score$p.value, corr.w.score$estimate)\n",
    "\n",
    "names(corr.w.score.out) <- c(\"Pval\", \"Estimate\")\n",
    "\n",
    "write.csv(corr.w.score.out, \"output/1_shedding_analysis/corr_w_scores.csv\")\n"
   ]
  },
  {
   "cell_type": "code",
   "execution_count": 9,
   "metadata": {},
   "outputs": [],
   "source": [
    "# Visualize shedding scores \n",
    "############################\n",
    "\n",
    "# Plot w.score2\n",
    "w.score2.dp <- data.frame(w.score2)\n",
    "\n",
    "w.score2.dp$Var1 <- factor(w.score2.dp$Var1, levels=w.score2.dp$Var1[order(w.score2.dp$Freq)])\n",
    "\n",
    "w.score2.p <- ggplot(w.score2.dp, aes(x=Var1, y=Freq)) + \n",
    "  geom_bar(stat=\"identity\") + \n",
    "  theme_bw() +\n",
    "  geom_hline(yintercept = mean(w.score2.dp$Freq), color=\"blue\") +\n",
    "  geom_hline(yintercept = mean(w.score2.dp$Freq) + sd(w.score2.dp$Freq), color=\"blue\", linetype = \"longdash\") +\n",
    "  geom_hline(yintercept = mean(w.score2.dp$Freq) - sd(w.score2.dp$Freq), color=\"blue\", linetype = \"longdash\") + \n",
    "  theme(axis.text.x = element_text(angle = 90, hjust = 1, vjust = 0.5)) + \n",
    "  ylim(0, 2.3) + \n",
    "  ylab(\"Weighted score\") + \n",
    "  xlab(\"Cow ID\")\n",
    "\n",
    "# Plot w.score \n",
    "w.score1.dp <- data.frame(w.score)\n",
    "\n",
    "w.score1.dp$Var1 <- factor(w.score1.dp$Var1, levels=levels(w.score2.dp$Var1))\n",
    "\n",
    "w.score1.p <- ggplot(w.score1.dp, aes(x=Var1, y=Freq)) + \n",
    "  geom_bar(stat=\"identity\") + \n",
    "  theme_bw() + \n",
    "  geom_hline(yintercept = mean(w.score1.dp$Freq), color=\"blue\") +\n",
    "  geom_hline(yintercept = mean(w.score1.dp$Freq) + sd(w.score1.dp$Freq), color=\"blue\", linetype = \"longdash\") +\n",
    "  geom_hline(yintercept = mean(w.score1.dp$Freq) - sd(w.score1.dp$Freq), color=\"blue\", linetype = \"longdash\") + \n",
    "  theme(axis.text.x = element_text(angle=90, hjust=1, vjust=0.5)) + \n",
    "  ylim(0, 2.3) + \n",
    "  ylab(\"Weighted score\") + \n",
    "  xlab(\"Cow ID\")\n",
    "\n",
    "# Combine and save plots\n",
    "w.score.pcomb <- plot_grid(w.score2.p, w.score1.p)\n",
    "\n",
    "ggsave(filename = \"output/1_shedding_analysis/w_score_comb.pdf\", w.score.pcomb, width = 7, height = 3.5)\n",
    "\n",
    "ggsave(filename = \"output/1_shedding_analysis/w_score_comb.png\", w.score.pcomb, width = 7, height = 3.5, dpi = 400)\n"
   ]
  }
 ],
 "metadata": {
  "kernelspec": {
   "display_name": "R",
   "language": "R",
   "name": "ir"
  },
  "language_info": {
   "codemirror_mode": "r",
   "file_extension": ".r",
   "mimetype": "text/x-r-source",
   "name": "R",
   "pygments_lexer": "r",
   "version": "3.6.1"
  }
 },
 "nbformat": 4,
 "nbformat_minor": 4
}
