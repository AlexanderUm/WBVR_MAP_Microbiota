{
 "cells": [
  {
   "cell_type": "code",
   "execution_count": 1,
   "metadata": {},
   "outputs": [
    {
     "name": "stderr",
     "output_type": "stream",
     "text": [
      "Loading required package: phyloseq\n",
      "Loading required package: tidyverse\n",
      "── Attaching packages ─────────────────────────────────────── tidyverse 1.3.0 ──\n",
      "✔ ggplot2 3.3.0     ✔ purrr   0.3.4\n",
      "✔ tibble  3.0.1     ✔ dplyr   0.8.5\n",
      "✔ tidyr   1.0.2     ✔ stringr 1.4.0\n",
      "✔ readr   1.3.1     ✔ forcats 0.4.0\n",
      "── Conflicts ────────────────────────────────────────── tidyverse_conflicts() ──\n",
      "✖ dplyr::filter() masks stats::filter()\n",
      "✖ dplyr::lag()    masks stats::lag()\n",
      "Loading required package: vegan\n",
      "Loading required package: permute\n",
      "Loading required package: lattice\n",
      "This is vegan 2.5-6\n",
      "Loading required package: lubridate\n",
      "\n",
      "Attaching package: ‘lubridate’\n",
      "\n",
      "The following object is masked from ‘package:base’:\n",
      "\n",
      "    date\n",
      "\n"
     ]
    },
    {
     "data": {
      "text/html": [
       "<ol>\n",
       "\t<li>TRUE</li>\n",
       "\t<li>TRUE</li>\n",
       "\t<li>TRUE</li>\n",
       "\t<li>TRUE</li>\n",
       "</ol>\n"
      ],
      "text/latex": [
       "\\begin{enumerate}\n",
       "\\item TRUE\n",
       "\\item TRUE\n",
       "\\item TRUE\n",
       "\\item TRUE\n",
       "\\end{enumerate}\n"
      ],
      "text/markdown": [
       "1. TRUE\n",
       "2. TRUE\n",
       "3. TRUE\n",
       "4. TRUE\n",
       "\n",
       "\n"
      ],
      "text/plain": [
       "[[1]]\n",
       "[1] TRUE\n",
       "\n",
       "[[2]]\n",
       "[1] TRUE\n",
       "\n",
       "[[3]]\n",
       "[1] TRUE\n",
       "\n",
       "[[4]]\n",
       "[1] TRUE\n"
      ]
     },
     "metadata": {},
     "output_type": "display_data"
    },
    {
     "name": "stderr",
     "output_type": "stream",
     "text": [
      "Warning message in dir.create(\"output/4_batta_diversity\"):\n",
      "“'output/4_batta_diversity' already exists”"
     ]
    }
   ],
   "source": [
    "##############################\n",
    "# Investigate betta diversity \n",
    "##############################\n",
    "\n",
    "# Load required libraries \n",
    "source(\"scr/functions/general/load_abs_install_pkg.R\")\n",
    "\n",
    "load_abs_install_pkg(c(\"phyloseq\", \"tidyverse\", \"vegan\", \"lubridate\"))\n",
    "\n",
    "dir.create(\"output/4_batta_diversity\")\n"
   ]
  },
  {
   "cell_type": "code",
   "execution_count": 2,
   "metadata": {},
   "outputs": [],
   "source": [
    "# Read in the phyloseq object \n",
    "ps.tf.css.01 <- readRDS(\"output/3_filtering_mormalization/ps_tf2_css.RDS\")\n"
   ]
  },
  {
   "cell_type": "code",
   "execution_count": 17,
   "metadata": {},
   "outputs": [],
   "source": [
    "###########################################\n",
    "# Plot PCoA and test variables significance\n",
    "###########################################\n",
    "\n",
    "# Load function for data extraction \n",
    "source(\"scr/functions/pcoa_plot_data.R\")\n"
   ]
  },
  {
   "cell_type": "code",
   "execution_count": 13,
   "metadata": {},
   "outputs": [],
   "source": [
    "# Ordinate complite dataset \n",
    "###########################\n",
    "\n",
    "# Extract data\n",
    "all.samp <- pcoa_plot_data(phyloseq = ps.tf.css.01, \n",
    "                           factors = c(\"Year\", \"Diet\"), \n",
    "                           vectors = c(\"AgeMonth\", \"WeightedScoreII\"),\n",
    "                           arrow_scale_cof = 3, \n",
    "                           ncore = 36)"
   ]
  },
  {
   "cell_type": "code",
   "execution_count": 10,
   "metadata": {},
   "outputs": [
    {
     "name": "stderr",
     "output_type": "stream",
     "text": [
      "Warning message in MASS::cov.trob(data[, vars]):\n",
      "“Probable convergence failure”Warning message in MASS::cov.trob(data[, vars]):\n",
      "“Probable convergence failure”"
     ]
    }
   ],
   "source": [
    "# Plot ordination\n",
    "all.samp.plot <- ggplot()+\n",
    "\n",
    "     geom_point(data = all.samp$plot_df, aes(x = x, y = y, color = AgeMonth), size = 2) +\n",
    "\n",
    "     theme_bw() +\n",
    "\n",
    "     stat_ellipse(data = all.samp$plot_df, \n",
    "                  aes(x = x, y = y, fill = Diet), \n",
    "                  alpha = .1, size = 0.5, geom = \"polygon\") +\n",
    "\n",
    "     geom_segment(data = all.samp$plot_vec, \n",
    "                  aes(x = 0, y = 0, xend = Dim1, yend = Dim2, lty = Vectors), \n",
    "                  arrow=arrow(length=unit(.2, \"cm\")))  + \n",
    "\n",
    "     xlab(label = all.samp$plot_var[1]) + \n",
    "     ylab(label = all.samp$plot_var[2])\n",
    "\n",
    "# Save plots \n",
    "ggsave(filename = \"output/4_batta_diversity/MDS_bray_all.pdf\", plot = all.samp.plot, \n",
    "       device = \"pdf\", height = 7, width = 9)\n",
    "\n",
    "ggsave(filename = \"output/4_batta_diversity/MDS_bray_all.png\", plot = all.samp.plot, \n",
    "       device = \"png\", height = 7, width = 9, dpi = 400)\n"
   ]
  },
  {
   "cell_type": "code",
   "execution_count": 18,
   "metadata": {},
   "outputs": [],
   "source": [
    "# Ordination - solid diet \n",
    "#########################\n",
    "\n",
    "ps.solid <- prune_samples(samples = ps.tf.css.01@sam_data$Diet %in% \"Solid\",\n",
    "                           x = ps.tf.css.01)"
   ]
  },
  {
   "cell_type": "code",
   "execution_count": 19,
   "metadata": {},
   "outputs": [],
   "source": [
    "# Extract data\n",
    "solid.samp <- pcoa_plot_data(phyloseq = ps.solid, \n",
    "                           factors = c(\"Year\"), \n",
    "                           vectors = c(\"AgeMonth\", \"WeightedScoreII\"), \n",
    "                           arrow_scale_cof = 3, \n",
    "                           ncore = 36)\n"
   ]
  },
  {
   "cell_type": "code",
   "execution_count": 20,
   "metadata": {},
   "outputs": [],
   "source": [
    "# Build and save the plot \n",
    "solid.samp.plot <- ggplot() +\n",
    "\n",
    "     geom_point(data = solid.samp$plot_df,\n",
    "                aes(x = x, y = y, color = AgeMonth), size=2) + \n",
    "\n",
    "     theme_bw() +\n",
    "\n",
    "     geom_segment(data = solid.samp$plot_vec, \n",
    "                  aes(x = 0, y = 0, xend = Dim1, yend = Dim2, lty = Vectors), \n",
    "                  arrow=arrow(length=unit(.2, \"cm\"))) + \n",
    "\n",
    "     stat_ellipse(data = solid.samp$plot_df,\n",
    "                  aes(x = x, y = y, fill=Year),\n",
    "                  alpha=.1, size =0.5, geom=\"polygon\") +\n",
    "\n",
    "     xlab(label = solid.samp$plot_var[1]) +\n",
    "     ylab(label = solid.samp$plot_var[2])  \n",
    "     \n",
    "\n",
    "ggsave(filename = \"output/4_batta_diversity/MDS_bray_solid.pdf\", plot = solid.samp.plot, \n",
    "       device = \"pdf\", height = 5, width = 8)\n",
    "\n",
    "ggsave(filename = \"output/4_batta_diversity/MDS_bray_solid.png\", plot = solid.samp.plot, \n",
    "       device = \"png\", height = 5, width = 8, dpi = 400)"
   ]
  }
 ],
 "metadata": {
  "kernelspec": {
   "display_name": "R",
   "language": "R",
   "name": "ir"
  },
  "language_info": {
   "codemirror_mode": "r",
   "file_extension": ".r",
   "mimetype": "text/x-r-source",
   "name": "R",
   "pygments_lexer": "r",
   "version": "3.6.1"
  }
 },
 "nbformat": 4,
 "nbformat_minor": 4
}
