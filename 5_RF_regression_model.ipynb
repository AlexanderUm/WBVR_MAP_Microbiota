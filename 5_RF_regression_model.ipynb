{
 "cells": [
  {
   "cell_type": "code",
   "execution_count": null,
   "metadata": {},
   "outputs": [],
   "source": [
    "##############################################################\n",
    "# Prediction of shedding scores using random forest regression \n",
    "##############################################################"
   ]
  },
  {
   "cell_type": "code",
   "execution_count": 13,
   "metadata": {},
   "outputs": [
    {
     "data": {
      "text/html": [
       "<ol>\n",
       "\t<li>TRUE</li>\n",
       "\t<li>TRUE</li>\n",
       "\t<li>TRUE</li>\n",
       "\t<li>TRUE</li>\n",
       "\t<li>TRUE</li>\n",
       "</ol>\n"
      ],
      "text/latex": [
       "\\begin{enumerate}\n",
       "\\item TRUE\n",
       "\\item TRUE\n",
       "\\item TRUE\n",
       "\\item TRUE\n",
       "\\item TRUE\n",
       "\\end{enumerate}\n"
      ],
      "text/markdown": [
       "1. TRUE\n",
       "2. TRUE\n",
       "3. TRUE\n",
       "4. TRUE\n",
       "5. TRUE\n",
       "\n",
       "\n"
      ],
      "text/plain": [
       "[[1]]\n",
       "[1] TRUE\n",
       "\n",
       "[[2]]\n",
       "[1] TRUE\n",
       "\n",
       "[[3]]\n",
       "[1] TRUE\n",
       "\n",
       "[[4]]\n",
       "[1] TRUE\n",
       "\n",
       "[[5]]\n",
       "[1] TRUE\n"
      ]
     },
     "metadata": {},
     "output_type": "display_data"
    },
    {
     "name": "stderr",
     "output_type": "stream",
     "text": [
      "Warning message in dir.create(\"output/5_RF_regression_model\"):\n",
      "“'output/5_RF_regression_model' already exists”"
     ]
    }
   ],
   "source": [
    "\n",
    "# Load required libraries \n",
    "#########################\n",
    "\n",
    "set.seed(4957936)\n",
    "\n",
    "source(\"scr/functions/general/load_abs_install_pkg.R\")\n",
    "\n",
    "load_abs_install_pkg(c(\"phyloseq\", \"tidyverse\", \"foreach\", \"doParallel\", \"randomForest\"))\n",
    "\n",
    "dir.create(\"output/5_RF_regression_model\")\n"
   ]
  },
  {
   "cell_type": "code",
   "execution_count": 23,
   "metadata": {},
   "outputs": [],
   "source": [
    "# Extract and format data for RF regression\n",
    "###########################################\n",
    "\n",
    "ps.tf.css.01 <- readRDS(\"output/3_filtering_mormalization/ps_tf2_css.RDS\")\n",
    "\n",
    "source(\"scr/functions/data_for_rf.R\")\n",
    "\n",
    "rf.data.css.01 <- data_for_rf(phyloseq = ps.tf.css.01, \n",
    "                              class.column = 'WeightedScoreII', \n",
    "                              remove.taxa.prev.less.than = 1, \n",
    "                              return.df = TRUE)\n",
    "\n",
    "rf.data.css.01$WeightedScoreII <- as.numeric(as.character(rf.data.css.01$WeightedScoreII))\n"
   ]
  },
  {
   "cell_type": "code",
   "execution_count": 19,
   "metadata": {},
   "outputs": [],
   "source": [
    "# Find optimal number of trees nessasery for model\n",
    "##################################################\n",
    "\n",
    "RF.tree <- randomForest(WeightedScoreII ~ . , \n",
    "                           data = rf.data.css.01, \n",
    "                           ntree=15001)\n"
   ]
  },
  {
   "cell_type": "code",
   "execution_count": 11,
   "metadata": {},
   "outputs": [
    {
     "data": {
      "text/html": [
       "<strong>png:</strong> 2"
      ],
      "text/latex": [
       "\\textbf{png:} 2"
      ],
      "text/markdown": [
       "**png:** 2"
      ],
      "text/plain": [
       "png \n",
       "  2 "
      ]
     },
     "metadata": {},
     "output_type": "display_data"
    }
   ],
   "source": [
    "# Save plot \n",
    "pdf(\"output/5_RF_regression_model/ntrees_test.pdf\")\n",
    "\n",
    "plot(RF.tree)\n",
    "\n",
    "dev.off()\n"
   ]
  },
  {
   "cell_type": "code",
   "execution_count": 24,
   "metadata": {},
   "outputs": [],
   "source": [
    "# Mtry tunning \n",
    "##############\n",
    "\n",
    "source(\"scr/functions/Tree_Mtry_Plot.R\")\n",
    "\n",
    "cl <- makeCluster(24)\n",
    "\n",
    "registerDoParallel(cl)\n",
    "\n",
    "tree.mtry.plot.all <- Tree_Mtry_Plot(data = rf.data.css.01, \n",
    "                                     ntrees = 7501,\n",
    "                                     start_val = ncol(rf.data.css.01/3), \n",
    "                                     stepF = 0.5, \n",
    "                                     class_colum = \"WeightedScoreII\", \n",
    "                                     ntimes = 3)\n",
    "\n",
    "stopCluster(cl)\n"
   ]
  },
  {
   "cell_type": "code",
   "execution_count": 14,
   "metadata": {},
   "outputs": [
    {
     "name": "stderr",
     "output_type": "stream",
     "text": [
      "Saving 6.67 x 6.67 in image\n"
     ]
    }
   ],
   "source": [
    "ggsave(plot = tree.mtry.plot.all, filename = \"output/5_RF_regression_model/mtry_plot.pdf\")\n"
   ]
  },
  {
   "cell_type": "code",
   "execution_count": 25,
   "metadata": {},
   "outputs": [],
   "source": [
    "# Test if Shedding values could be predicted using regression mode of RF\n",
    "#######################################################################\n",
    "\n",
    "# Create matrix with not overlaping samples (length 10)\n",
    "source(\"scr/functions/rand_draw_mat.R\")\n",
    "\n",
    "rand.samp.reg <- rand_draw_mat(Samples_list = rownames(rf.data.css.01), Number_of_samp = 10)\n"
   ]
  },
  {
   "cell_type": "code",
   "execution_count": 26,
   "metadata": {},
   "outputs": [],
   "source": [
    "# Build models and predict values\n",
    "source(\"scr/functions/rf_and_test.R\")\n",
    "\n",
    "cl <- makeCluster(56)\n",
    "\n",
    "registerDoParallel(cl)\n",
    "\n",
    "rf.reg.res <- list()\n",
    "\n",
    "for (i in 1:5) {\n",
    "\n",
    "    res.for <- foreach(i=1:nrow(rand.samp.reg),.packages = \"randomForest\") %dopar% {\n",
    "                rf_and_test(rf_data = rf.data.css.01, \n",
    "                samples_to_test = rand.samp.reg[i,], \n",
    "                n_samples_training = 230, \n",
    "                mtry = ncol(rf.data.css.01/3), \n",
    "                ntree = 7501, \n",
    "                variable_column = \"WeightedScoreII\", \n",
    "                regression_TorF = TRUE)}\n",
    "\n",
    "    rf.reg.res[[i]] <- unlist(res.for) }\n",
    "\n",
    "stopCluster(cl)\n"
   ]
  },
  {
   "cell_type": "code",
   "execution_count": 23,
   "metadata": {},
   "outputs": [],
   "source": [
    "save(rf.reg.res, file = \"output/5_RF_regression_model/samples_reg_out.Rdata\")\n"
   ]
  },
  {
   "cell_type": "code",
   "execution_count": 27,
   "metadata": {},
   "outputs": [],
   "source": [
    "#Extract and optimize data for ploting \n",
    "######################################\n",
    "\n",
    "# Extract metadata\n",
    "p.reg.meta <- data.frame(ps.tf.css.01@sam_data[, c(\"CowN\", \"WeightedScoreII\", \"AgeMonth\")])\n",
    "\n",
    "p.reg.meta$ID <- rownames(p.reg.meta)\n",
    "\n",
    "# Prepare data dor plotting \n",
    "reg.pd <- data.frame()\n",
    "\n",
    "for(i in 1:length(rf.reg.res)) {\n",
    "    \n",
    "    reg.r <- data.frame(rf.reg.res[[i]])\n",
    "    \n",
    "    reg.r$ID <- rownames(reg.r)\n",
    "    \n",
    "    reg.pd <- rbind(reg.pd, left_join(reg.r, p.reg.meta, by=\"ID\"))\n",
    "    }\n",
    "\n",
    "\n",
    "reg.pd.bar <- reg.pd[!duplicated(reg.pd$CowN), ]\n",
    "\n",
    "reg.pd$CowN <- factor(reg.pd$CowN, levels=reg.pd.bar$CowN[order(as.numeric(as.character(reg.pd.bar$WeightedScoreII)))])\n",
    "\n",
    "reg.pd.line <- data.frame(aggregate(reg.pd$rf.reg.res..i.., list(reg.pd$CowN), mean))\n",
    "\n",
    "colnames(reg.pd.line) <- c(\"CowN\", \"PredV\")\n"
   ]
  },
  {
   "cell_type": "code",
   "execution_count": 31,
   "metadata": {},
   "outputs": [],
   "source": [
    "# Plot the results\n",
    "##################\n",
    "\n",
    "pred.val.plot <- ggplot() + \n",
    "\n",
    "    geom_bar(data = reg.pd[!duplicated(reg.pd$CowN), ], \n",
    "             aes(x = CowN, y = WeightedScoreII), \n",
    "             fill =\"grey60\", stat = \"identity\") + \n",
    "\n",
    "    geom_jitter(data = reg.pd, \n",
    "                aes(x = CowN, y = rf.reg.res..i.., color=AgeMonth), \n",
    "                width = 0.2) + \n",
    "\n",
    "    geom_smooth(data = reg.pd, \n",
    "                aes(x = as.numeric(CowN), y = rf.reg.res..i..), \n",
    "                method = \"loess\") + \n",
    "    theme_bw() + \n",
    "\n",
    "    theme(axis.text.x = element_text(angle = 90, hjust = 0.5)) + \n",
    "\n",
    "    ylab(\"Weighted Score\") + \n",
    "    xlab(\"Cow ID\")\n"
   ]
  },
  {
   "cell_type": "code",
   "execution_count": null,
   "metadata": {},
   "outputs": [],
   "source": [
    "# Save plots\n",
    "ggsave(filename = \"output/5_RF_regression_model/pred_reg_values.pdf\", pred.val.plot, width = 7, height = 4)\n",
    "\n",
    "ggsave(filename = \"output/5_RF_regression_model/pred_reg_values.png\", pred.val.plot, width = 7, height = 4, dpi=400)\n"
   ]
  }
 ],
 "metadata": {
  "kernelspec": {
   "display_name": "R",
   "language": "R",
   "name": "ir"
  },
  "language_info": {
   "codemirror_mode": "r",
   "file_extension": ".r",
   "mimetype": "text/x-r-source",
   "name": "R",
   "pygments_lexer": "r",
   "version": "3.6.1"
  }
 },
 "nbformat": 4,
 "nbformat_minor": 4
}
